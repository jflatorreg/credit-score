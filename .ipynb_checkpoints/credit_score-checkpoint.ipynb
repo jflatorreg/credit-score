{
 "cells": [
  {
   "cell_type": "markdown",
   "metadata": {
    "id": "n8eB64zqAhIx"
   },
   "source": [
    "# Credit Score"
   ]
  },
  {
   "cell_type": "code",
   "execution_count": 1,
   "metadata": {
    "id": "HopCI7ruLba-"
   },
   "outputs": [],
   "source": [
    "#Importar librerias\n",
    "import pandas as pd\n",
    "#pd.options.mode.chained_assignment = None  \n",
    "import numpy as np\n",
    "import seaborn as sns"
   ]
  },
  {
   "cell_type": "code",
   "execution_count": 2,
   "metadata": {
    "id": "tu_sf-QrLstq"
   },
   "outputs": [],
   "source": [
    "#Cargar datos\n",
    "df = pd.read_csv('Anonimizada_BasePruebaIngreso.txt', delimiter = '|')"
   ]
  },
  {
   "cell_type": "code",
   "execution_count": 3,
   "metadata": {
    "colab": {
     "base_uri": "https://localhost:8080/",
     "height": 224
    },
    "id": "7GJNf_AVLsrO",
    "outputId": "2c945b13-3c9f-4437-acde-511b2c4da599"
   },
   "outputs": [
    {
     "data": {
      "text/html": [
       "<div>\n",
       "<style scoped>\n",
       "    .dataframe tbody tr th:only-of-type {\n",
       "        vertical-align: middle;\n",
       "    }\n",
       "\n",
       "    .dataframe tbody tr th {\n",
       "        vertical-align: top;\n",
       "    }\n",
       "\n",
       "    .dataframe thead th {\n",
       "        text-align: right;\n",
       "    }\n",
       "</style>\n",
       "<table border=\"1\" class=\"dataframe\">\n",
       "  <thead>\n",
       "    <tr style=\"text-align: right;\">\n",
       "      <th></th>\n",
       "      <th>Identificador</th>\n",
       "      <th>periodo</th>\n",
       "      <th>DIAS1</th>\n",
       "      <th>DIAS2</th>\n",
       "      <th>DIAS3</th>\n",
       "      <th>DIAS4</th>\n",
       "      <th>DIAS5</th>\n",
       "      <th>DIAS6</th>\n",
       "      <th>DIAS0</th>\n",
       "      <th>Numero_Producto</th>\n",
       "      <th>GENERO</th>\n",
       "      <th>Saldo_Mora1</th>\n",
       "      <th>Cupo</th>\n",
       "      <th>Saldo_Mora2</th>\n",
       "      <th>Saldo1</th>\n",
       "      <th>Saldo_Mora3</th>\n",
       "      <th>Saldo2</th>\n",
       "      <th>Saldo_Mora4</th>\n",
       "      <th>Saldo3</th>\n",
       "      <th>Saldo_Mora5</th>\n",
       "      <th>Saldo4</th>\n",
       "      <th>Saldo_Mora6</th>\n",
       "      <th>Saldo5</th>\n",
       "      <th>Saldo6</th>\n",
       "    </tr>\n",
       "  </thead>\n",
       "  <tbody>\n",
       "    <tr>\n",
       "      <th>0</th>\n",
       "      <td>92966525716</td>\n",
       "      <td>201709</td>\n",
       "      <td>7.0</td>\n",
       "      <td>6.0</td>\n",
       "      <td>0.0</td>\n",
       "      <td>0.0</td>\n",
       "      <td>0.0</td>\n",
       "      <td>4.0</td>\n",
       "      <td>5</td>\n",
       "      <td>1</td>\n",
       "      <td>NaN</td>\n",
       "      <td>NaN</td>\n",
       "      <td>NaN</td>\n",
       "      <td>NaN</td>\n",
       "      <td>NaN</td>\n",
       "      <td>NaN</td>\n",
       "      <td>NaN</td>\n",
       "      <td>NaN</td>\n",
       "      <td>NaN</td>\n",
       "      <td>NaN</td>\n",
       "      <td>NaN</td>\n",
       "      <td>NaN</td>\n",
       "      <td>NaN</td>\n",
       "      <td>NaN</td>\n",
       "    </tr>\n",
       "    <tr>\n",
       "      <th>1</th>\n",
       "      <td>92967390638</td>\n",
       "      <td>201709</td>\n",
       "      <td>0.0</td>\n",
       "      <td>0.0</td>\n",
       "      <td>0.0</td>\n",
       "      <td>0.0</td>\n",
       "      <td>0.0</td>\n",
       "      <td>0.0</td>\n",
       "      <td>0</td>\n",
       "      <td>1</td>\n",
       "      <td>M</td>\n",
       "      <td>294572,35</td>\n",
       "      <td>14602478,93</td>\n",
       "      <td>294571,71</td>\n",
       "      <td>14493557,79</td>\n",
       "      <td>294570,52</td>\n",
       "      <td>14383360,76</td>\n",
       "      <td>294569,96</td>\n",
       "      <td>14271872,86</td>\n",
       "      <td>294569,05</td>\n",
       "      <td>14159078,99</td>\n",
       "      <td>294567,62</td>\n",
       "      <td>14044963,84</td>\n",
       "      <td>13929511,94</td>\n",
       "    </tr>\n",
       "    <tr>\n",
       "      <th>2</th>\n",
       "      <td>92967489284</td>\n",
       "      <td>201712</td>\n",
       "      <td>0.0</td>\n",
       "      <td>0.0</td>\n",
       "      <td>0.0</td>\n",
       "      <td>0.0</td>\n",
       "      <td>0.0</td>\n",
       "      <td>0.0</td>\n",
       "      <td>0</td>\n",
       "      <td>1</td>\n",
       "      <td>NaN</td>\n",
       "      <td>NaN</td>\n",
       "      <td>NaN</td>\n",
       "      <td>NaN</td>\n",
       "      <td>NaN</td>\n",
       "      <td>0</td>\n",
       "      <td>0</td>\n",
       "      <td>12262</td>\n",
       "      <td>3524442</td>\n",
       "      <td>49553</td>\n",
       "      <td>3516034,8</td>\n",
       "      <td>41122</td>\n",
       "      <td>2989794,73</td>\n",
       "      <td>2830734,73</td>\n",
       "    </tr>\n",
       "    <tr>\n",
       "      <th>3</th>\n",
       "      <td>92966459151</td>\n",
       "      <td>201809</td>\n",
       "      <td>0.0</td>\n",
       "      <td>0.0</td>\n",
       "      <td>0.0</td>\n",
       "      <td>0.0</td>\n",
       "      <td>0.0</td>\n",
       "      <td>NaN</td>\n",
       "      <td>0</td>\n",
       "      <td>2</td>\n",
       "      <td>F</td>\n",
       "      <td>20130</td>\n",
       "      <td>8114453.23</td>\n",
       "      <td>203592</td>\n",
       "      <td>9738321.38</td>\n",
       "      <td>32433</td>\n",
       "      <td>32433</td>\n",
       "      <td>32433</td>\n",
       "      <td>32433</td>\n",
       "      <td>32433</td>\n",
       "      <td>32433</td>\n",
       "      <td>32433</td>\n",
       "      <td>32433</td>\n",
       "      <td>0</td>\n",
       "    </tr>\n",
       "    <tr>\n",
       "      <th>4</th>\n",
       "      <td>92966529824</td>\n",
       "      <td>201712</td>\n",
       "      <td>0.0</td>\n",
       "      <td>0.0</td>\n",
       "      <td>0.0</td>\n",
       "      <td>0.0</td>\n",
       "      <td>0.0</td>\n",
       "      <td>5.0</td>\n",
       "      <td>4</td>\n",
       "      <td>1</td>\n",
       "      <td>NaN</td>\n",
       "      <td>NaN</td>\n",
       "      <td>NaN</td>\n",
       "      <td>NaN</td>\n",
       "      <td>NaN</td>\n",
       "      <td>NaN</td>\n",
       "      <td>NaN</td>\n",
       "      <td>NaN</td>\n",
       "      <td>NaN</td>\n",
       "      <td>NaN</td>\n",
       "      <td>NaN</td>\n",
       "      <td>NaN</td>\n",
       "      <td>NaN</td>\n",
       "      <td>NaN</td>\n",
       "    </tr>\n",
       "  </tbody>\n",
       "</table>\n",
       "</div>"
      ],
      "text/plain": [
       "   Identificador  periodo  DIAS1  ...  Saldo_Mora6       Saldo5       Saldo6\n",
       "0    92966525716   201709    7.0  ...          NaN          NaN          NaN\n",
       "1    92967390638   201709    0.0  ...    294567,62  14044963,84  13929511,94\n",
       "2    92967489284   201712    0.0  ...        41122   2989794,73   2830734,73\n",
       "3    92966459151   201809    0.0  ...        32433        32433            0\n",
       "4    92966529824   201712    0.0  ...          NaN          NaN          NaN\n",
       "\n",
       "[5 rows x 24 columns]"
      ]
     },
     "execution_count": 3,
     "metadata": {
      "tags": []
     },
     "output_type": "execute_result"
    }
   ],
   "source": [
    "df.head()"
   ]
  },
  {
   "cell_type": "code",
   "execution_count": 4,
   "metadata": {
    "id": "m99h2oHdOXrL"
   },
   "outputs": [],
   "source": [
    "#Dar formato de Fecha \n",
    "df['periodo'] = pd.to_datetime(df['periodo'], format='%Y%m')\n",
    "df['periodo'] = df['periodo'].dt.date.apply(lambda x: x.strftime('%Y-%m'))"
   ]
  },
  {
   "cell_type": "markdown",
   "metadata": {
    "id": "Z_BJEuILR-D_"
   },
   "source": [
    "# 1. Limpieza de Datos\n",
    "\n",
    "Se limpian los datos primero para hacer una mejor descripción"
   ]
  },
  {
   "cell_type": "code",
   "execution_count": 5,
   "metadata": {
    "colab": {
     "base_uri": "https://localhost:8080/"
    },
    "id": "-CtA9n5bR50y",
    "outputId": "cbd10232-f0e0-489b-838d-517312f562d2"
   },
   "outputs": [
    {
     "data": {
      "text/plain": [
       "30000"
      ]
     },
     "execution_count": 5,
     "metadata": {
      "tags": []
     },
     "output_type": "execute_result"
    }
   ],
   "source": [
    "df['Identificador'].count()"
   ]
  },
  {
   "cell_type": "code",
   "execution_count": 6,
   "metadata": {
    "colab": {
     "base_uri": "https://localhost:8080/"
    },
    "id": "PsCip_BMSEaB",
    "outputId": "0904acf8-6c37-46d5-cfee-fd092aa7a360"
   },
   "outputs": [
    {
     "data": {
      "text/plain": [
       "18101"
      ]
     },
     "execution_count": 6,
     "metadata": {
      "tags": []
     },
     "output_type": "execute_result"
    }
   ],
   "source": [
    "df['Identificador'].nunique()"
   ]
  },
  {
   "cell_type": "code",
   "execution_count": 7,
   "metadata": {
    "id": "PhMJsSX9SGnS"
   },
   "outputs": [],
   "source": [
    "#Eliminación de datos repetidos para ID\n",
    "df = df.drop_duplicates(subset=['Identificador'],  keep= False)"
   ]
  },
  {
   "cell_type": "code",
   "execution_count": 8,
   "metadata": {
    "id": "W1wWabHvSRzh"
   },
   "outputs": [],
   "source": [
    "df = df.set_index('Identificador')"
   ]
  },
  {
   "cell_type": "code",
   "execution_count": 9,
   "metadata": {
    "id": "cNOs83HkSWSb"
   },
   "outputs": [],
   "source": [
    "df = df.dropna()"
   ]
  },
  {
   "cell_type": "code",
   "execution_count": 10,
   "metadata": {
    "colab": {
     "base_uri": "https://localhost:8080/",
     "height": 470
    },
    "id": "asBh8T38SXKZ",
    "outputId": "88b3d390-649d-49ab-9572-0349dfcd5cd4"
   },
   "outputs": [
    {
     "data": {
      "text/html": [
       "<div>\n",
       "<style scoped>\n",
       "    .dataframe tbody tr th:only-of-type {\n",
       "        vertical-align: middle;\n",
       "    }\n",
       "\n",
       "    .dataframe tbody tr th {\n",
       "        vertical-align: top;\n",
       "    }\n",
       "\n",
       "    .dataframe thead th {\n",
       "        text-align: right;\n",
       "    }\n",
       "</style>\n",
       "<table border=\"1\" class=\"dataframe\">\n",
       "  <thead>\n",
       "    <tr style=\"text-align: right;\">\n",
       "      <th></th>\n",
       "      <th>periodo</th>\n",
       "      <th>DIAS1</th>\n",
       "      <th>DIAS2</th>\n",
       "      <th>DIAS3</th>\n",
       "      <th>DIAS4</th>\n",
       "      <th>DIAS5</th>\n",
       "      <th>DIAS6</th>\n",
       "      <th>DIAS0</th>\n",
       "      <th>Numero_Producto</th>\n",
       "      <th>GENERO</th>\n",
       "      <th>Saldo_Mora1</th>\n",
       "      <th>Cupo</th>\n",
       "      <th>Saldo_Mora2</th>\n",
       "      <th>Saldo1</th>\n",
       "      <th>Saldo_Mora3</th>\n",
       "      <th>Saldo2</th>\n",
       "      <th>Saldo_Mora4</th>\n",
       "      <th>Saldo3</th>\n",
       "      <th>Saldo_Mora5</th>\n",
       "      <th>Saldo4</th>\n",
       "      <th>Saldo_Mora6</th>\n",
       "      <th>Saldo5</th>\n",
       "      <th>Saldo6</th>\n",
       "    </tr>\n",
       "    <tr>\n",
       "      <th>Identificador</th>\n",
       "      <th></th>\n",
       "      <th></th>\n",
       "      <th></th>\n",
       "      <th></th>\n",
       "      <th></th>\n",
       "      <th></th>\n",
       "      <th></th>\n",
       "      <th></th>\n",
       "      <th></th>\n",
       "      <th></th>\n",
       "      <th></th>\n",
       "      <th></th>\n",
       "      <th></th>\n",
       "      <th></th>\n",
       "      <th></th>\n",
       "      <th></th>\n",
       "      <th></th>\n",
       "      <th></th>\n",
       "      <th></th>\n",
       "      <th></th>\n",
       "      <th></th>\n",
       "      <th></th>\n",
       "      <th></th>\n",
       "    </tr>\n",
       "  </thead>\n",
       "  <tbody>\n",
       "    <tr>\n",
       "      <th>92966498191</th>\n",
       "      <td>2017-12</td>\n",
       "      <td>0.0</td>\n",
       "      <td>0.0</td>\n",
       "      <td>0.0</td>\n",
       "      <td>0.0</td>\n",
       "      <td>0.0</td>\n",
       "      <td>0.0</td>\n",
       "      <td>0</td>\n",
       "      <td>1</td>\n",
       "      <td>F</td>\n",
       "      <td>23984</td>\n",
       "      <td>841492</td>\n",
       "      <td>24081</td>\n",
       "      <td>826282</td>\n",
       "      <td>22918</td>\n",
       "      <td>880038</td>\n",
       "      <td>21547</td>\n",
       "      <td>875198</td>\n",
       "      <td>22184</td>\n",
       "      <td>859556</td>\n",
       "      <td>23081</td>\n",
       "      <td>844034</td>\n",
       "      <td>827736</td>\n",
       "    </tr>\n",
       "    <tr>\n",
       "      <th>92966517622</th>\n",
       "      <td>2017-12</td>\n",
       "      <td>0.0</td>\n",
       "      <td>23.0</td>\n",
       "      <td>0.0</td>\n",
       "      <td>26.0</td>\n",
       "      <td>0.0</td>\n",
       "      <td>23.0</td>\n",
       "      <td>0</td>\n",
       "      <td>1</td>\n",
       "      <td>M</td>\n",
       "      <td>53321</td>\n",
       "      <td>1256992,74</td>\n",
       "      <td>17860</td>\n",
       "      <td>824081,74</td>\n",
       "      <td>34304</td>\n",
       "      <td>870449,74</td>\n",
       "      <td>47058</td>\n",
       "      <td>1854396,74</td>\n",
       "      <td>34078</td>\n",
       "      <td>1926010,74</td>\n",
       "      <td>75761</td>\n",
       "      <td>1924634,74</td>\n",
       "      <td>1969493,74</td>\n",
       "    </tr>\n",
       "    <tr>\n",
       "      <th>92967423542</th>\n",
       "      <td>2017-09</td>\n",
       "      <td>0.0</td>\n",
       "      <td>20.0</td>\n",
       "      <td>0.0</td>\n",
       "      <td>21.0</td>\n",
       "      <td>0.0</td>\n",
       "      <td>18.0</td>\n",
       "      <td>50</td>\n",
       "      <td>1</td>\n",
       "      <td>F</td>\n",
       "      <td>0</td>\n",
       "      <td>5902847,31</td>\n",
       "      <td>108807,27</td>\n",
       "      <td>5951740,69</td>\n",
       "      <td>0</td>\n",
       "      <td>5781931,87</td>\n",
       "      <td>0</td>\n",
       "      <td>5719822,42</td>\n",
       "      <td>0</td>\n",
       "      <td>5656585,83</td>\n",
       "      <td>0</td>\n",
       "      <td>5592200,83</td>\n",
       "      <td>5528086,17</td>\n",
       "    </tr>\n",
       "    <tr>\n",
       "      <th>92966453666</th>\n",
       "      <td>2018-03</td>\n",
       "      <td>0.0</td>\n",
       "      <td>0.0</td>\n",
       "      <td>0.0</td>\n",
       "      <td>0.0</td>\n",
       "      <td>0.0</td>\n",
       "      <td>0.0</td>\n",
       "      <td>0</td>\n",
       "      <td>1</td>\n",
       "      <td>M</td>\n",
       "      <td>0</td>\n",
       "      <td>35273928,82</td>\n",
       "      <td>0</td>\n",
       "      <td>34850837,36</td>\n",
       "      <td>0</td>\n",
       "      <td>34421260,75</td>\n",
       "      <td>0</td>\n",
       "      <td>33985495,46</td>\n",
       "      <td>0</td>\n",
       "      <td>33542930,15</td>\n",
       "      <td>0</td>\n",
       "      <td>33093899,21</td>\n",
       "      <td>32638153,4</td>\n",
       "    </tr>\n",
       "    <tr>\n",
       "      <th>92966441983</th>\n",
       "      <td>2018-06</td>\n",
       "      <td>0.0</td>\n",
       "      <td>0.0</td>\n",
       "      <td>0.0</td>\n",
       "      <td>0.0</td>\n",
       "      <td>0.0</td>\n",
       "      <td>0.0</td>\n",
       "      <td>0</td>\n",
       "      <td>1</td>\n",
       "      <td>M</td>\n",
       "      <td>721172,9</td>\n",
       "      <td>34412521,93</td>\n",
       "      <td>0</td>\n",
       "      <td>33329200,28</td>\n",
       "      <td>0</td>\n",
       "      <td>32963615,7</td>\n",
       "      <td>0</td>\n",
       "      <td>32594562,18</td>\n",
       "      <td>0</td>\n",
       "      <td>32222007,19</td>\n",
       "      <td>0</td>\n",
       "      <td>31845917,38</td>\n",
       "      <td>31466259,22</td>\n",
       "    </tr>\n",
       "    <tr>\n",
       "      <th>...</th>\n",
       "      <td>...</td>\n",
       "      <td>...</td>\n",
       "      <td>...</td>\n",
       "      <td>...</td>\n",
       "      <td>...</td>\n",
       "      <td>...</td>\n",
       "      <td>...</td>\n",
       "      <td>...</td>\n",
       "      <td>...</td>\n",
       "      <td>...</td>\n",
       "      <td>...</td>\n",
       "      <td>...</td>\n",
       "      <td>...</td>\n",
       "      <td>...</td>\n",
       "      <td>...</td>\n",
       "      <td>...</td>\n",
       "      <td>...</td>\n",
       "      <td>...</td>\n",
       "      <td>...</td>\n",
       "      <td>...</td>\n",
       "      <td>...</td>\n",
       "      <td>...</td>\n",
       "      <td>...</td>\n",
       "    </tr>\n",
       "    <tr>\n",
       "      <th>92966441182</th>\n",
       "      <td>2017-12</td>\n",
       "      <td>104.0</td>\n",
       "      <td>132.0</td>\n",
       "      <td>160.0</td>\n",
       "      <td>193.0</td>\n",
       "      <td>224.0</td>\n",
       "      <td>253.0</td>\n",
       "      <td>70</td>\n",
       "      <td>6</td>\n",
       "      <td>M</td>\n",
       "      <td>0</td>\n",
       "      <td>0</td>\n",
       "      <td>0</td>\n",
       "      <td>0</td>\n",
       "      <td>0</td>\n",
       "      <td>0</td>\n",
       "      <td>0</td>\n",
       "      <td>0</td>\n",
       "      <td>0</td>\n",
       "      <td>0</td>\n",
       "      <td>0</td>\n",
       "      <td>0</td>\n",
       "      <td>0</td>\n",
       "    </tr>\n",
       "    <tr>\n",
       "      <th>92966467352</th>\n",
       "      <td>2017-12</td>\n",
       "      <td>0.0</td>\n",
       "      <td>0.0</td>\n",
       "      <td>0.0</td>\n",
       "      <td>0.0</td>\n",
       "      <td>0.0</td>\n",
       "      <td>0.0</td>\n",
       "      <td>0</td>\n",
       "      <td>1</td>\n",
       "      <td>F</td>\n",
       "      <td>110675</td>\n",
       "      <td>4867285</td>\n",
       "      <td>112881</td>\n",
       "      <td>4771272,46</td>\n",
       "      <td>99821</td>\n",
       "      <td>4525710,16</td>\n",
       "      <td>100119</td>\n",
       "      <td>4563790,54</td>\n",
       "      <td>97367</td>\n",
       "      <td>4689368,77</td>\n",
       "      <td>102942</td>\n",
       "      <td>4913045,5</td>\n",
       "      <td>4712553,96</td>\n",
       "    </tr>\n",
       "    <tr>\n",
       "      <th>92967447721</th>\n",
       "      <td>2017-12</td>\n",
       "      <td>0.0</td>\n",
       "      <td>0.0</td>\n",
       "      <td>0.0</td>\n",
       "      <td>0.0</td>\n",
       "      <td>0.0</td>\n",
       "      <td>0.0</td>\n",
       "      <td>0</td>\n",
       "      <td>1</td>\n",
       "      <td>M</td>\n",
       "      <td>105177,61</td>\n",
       "      <td>40943029,65</td>\n",
       "      <td>105176,78</td>\n",
       "      <td>40413469,36</td>\n",
       "      <td>105175,95</td>\n",
       "      <td>39877589,21</td>\n",
       "      <td>105175,12</td>\n",
       "      <td>39335313,79</td>\n",
       "      <td>105174,29</td>\n",
       "      <td>38786566,78</td>\n",
       "      <td>105174,29</td>\n",
       "      <td>38231271,76</td>\n",
       "      <td>37669349,77</td>\n",
       "    </tr>\n",
       "    <tr>\n",
       "      <th>92966467603</th>\n",
       "      <td>2017-09</td>\n",
       "      <td>0.0</td>\n",
       "      <td>13.0</td>\n",
       "      <td>0.0</td>\n",
       "      <td>0.0</td>\n",
       "      <td>0.0</td>\n",
       "      <td>0.0</td>\n",
       "      <td>0</td>\n",
       "      <td>1</td>\n",
       "      <td>F</td>\n",
       "      <td>0</td>\n",
       "      <td>0</td>\n",
       "      <td>9162</td>\n",
       "      <td>850872</td>\n",
       "      <td>17391</td>\n",
       "      <td>728263</td>\n",
       "      <td>15334</td>\n",
       "      <td>687097</td>\n",
       "      <td>19519</td>\n",
       "      <td>626486</td>\n",
       "      <td>14017</td>\n",
       "      <td>437933</td>\n",
       "      <td>247140</td>\n",
       "    </tr>\n",
       "    <tr>\n",
       "      <th>92966442639</th>\n",
       "      <td>2017-09</td>\n",
       "      <td>0.0</td>\n",
       "      <td>0.0</td>\n",
       "      <td>0.0</td>\n",
       "      <td>0.0</td>\n",
       "      <td>0.0</td>\n",
       "      <td>0.0</td>\n",
       "      <td>0</td>\n",
       "      <td>1</td>\n",
       "      <td>M</td>\n",
       "      <td>0</td>\n",
       "      <td>0</td>\n",
       "      <td>0</td>\n",
       "      <td>0</td>\n",
       "      <td>0</td>\n",
       "      <td>0</td>\n",
       "      <td>0</td>\n",
       "      <td>0</td>\n",
       "      <td>0</td>\n",
       "      <td>0</td>\n",
       "      <td>0</td>\n",
       "      <td>0</td>\n",
       "      <td>0</td>\n",
       "    </tr>\n",
       "  </tbody>\n",
       "</table>\n",
       "<p>4566 rows × 23 columns</p>\n",
       "</div>"
      ],
      "text/plain": [
       "               periodo  DIAS1  DIAS2  ...  Saldo_Mora6       Saldo5       Saldo6\n",
       "Identificador                         ...                                       \n",
       "92966498191    2017-12    0.0    0.0  ...        23081       844034       827736\n",
       "92966517622    2017-12    0.0   23.0  ...        75761   1924634,74   1969493,74\n",
       "92967423542    2017-09    0.0   20.0  ...            0   5592200,83   5528086,17\n",
       "92966453666    2018-03    0.0    0.0  ...            0  33093899,21   32638153,4\n",
       "92966441983    2018-06    0.0    0.0  ...            0  31845917,38  31466259,22\n",
       "...                ...    ...    ...  ...          ...          ...          ...\n",
       "92966441182    2017-12  104.0  132.0  ...            0            0            0\n",
       "92966467352    2017-12    0.0    0.0  ...       102942    4913045,5   4712553,96\n",
       "92967447721    2017-12    0.0    0.0  ...    105174,29  38231271,76  37669349,77\n",
       "92966467603    2017-09    0.0   13.0  ...        14017       437933       247140\n",
       "92966442639    2017-09    0.0    0.0  ...            0            0            0\n",
       "\n",
       "[4566 rows x 23 columns]"
      ]
     },
     "execution_count": 10,
     "metadata": {
      "tags": []
     },
     "output_type": "execute_result"
    }
   ],
   "source": [
    "df"
   ]
  },
  {
   "cell_type": "code",
   "execution_count": 11,
   "metadata": {
    "colab": {
     "base_uri": "https://localhost:8080/"
    },
    "id": "muKDvt6UTTSD",
    "outputId": "8291a556-ffbf-41f9-9d42-516ea75c7276"
   },
   "outputs": [
    {
     "name": "stdout",
     "output_type": "stream",
     "text": [
      "<class 'pandas.core.frame.DataFrame'>\n",
      "Int64Index: 4566 entries, 92966498191 to 92966442639\n",
      "Data columns (total 23 columns):\n",
      " #   Column           Non-Null Count  Dtype  \n",
      "---  ------           --------------  -----  \n",
      " 0   periodo          4566 non-null   object \n",
      " 1   DIAS1            4566 non-null   float64\n",
      " 2   DIAS2            4566 non-null   float64\n",
      " 3   DIAS3            4566 non-null   float64\n",
      " 4   DIAS4            4566 non-null   float64\n",
      " 5   DIAS5            4566 non-null   float64\n",
      " 6   DIAS6            4566 non-null   float64\n",
      " 7   DIAS0            4566 non-null   int64  \n",
      " 8   Numero_Producto  4566 non-null   int64  \n",
      " 9   GENERO           4566 non-null   object \n",
      " 10  Saldo_Mora1      4566 non-null   object \n",
      " 11  Cupo             4566 non-null   object \n",
      " 12  Saldo_Mora2      4566 non-null   object \n",
      " 13  Saldo1           4566 non-null   object \n",
      " 14  Saldo_Mora3      4566 non-null   object \n",
      " 15  Saldo2           4566 non-null   object \n",
      " 16  Saldo_Mora4      4566 non-null   object \n",
      " 17  Saldo3           4566 non-null   object \n",
      " 18  Saldo_Mora5      4566 non-null   object \n",
      " 19  Saldo4           4566 non-null   object \n",
      " 20  Saldo_Mora6      4566 non-null   object \n",
      " 21  Saldo5           4566 non-null   object \n",
      " 22  Saldo6           4566 non-null   object \n",
      "dtypes: float64(6), int64(2), object(15)\n",
      "memory usage: 856.1+ KB\n"
     ]
    }
   ],
   "source": [
    "#Información de Data Set\n",
    "df.info()"
   ]
  },
  {
   "cell_type": "code",
   "execution_count": 12,
   "metadata": {
    "id": "xHwCrc4on20v"
   },
   "outputs": [],
   "source": [
    "#Se cambian los tipos de datos para poder hacer el analísis númerico\n",
    "df['Cupo'] = pd.to_numeric(df['Cupo'], downcast='float', errors = 'coerce') "
   ]
  },
  {
   "cell_type": "code",
   "execution_count": 13,
   "metadata": {
    "colab": {
     "base_uri": "https://localhost:8080/"
    },
    "id": "V8OWKGqun2uG",
    "outputId": "ac921ed1-ca9e-47f8-adb5-afb8dddd7cef"
   },
   "outputs": [
    {
     "name": "stdout",
     "output_type": "stream",
     "text": [
      "<class 'pandas.core.frame.DataFrame'>\n",
      "Int64Index: 4566 entries, 92966498191 to 92966442639\n",
      "Data columns (total 23 columns):\n",
      " #   Column           Non-Null Count  Dtype  \n",
      "---  ------           --------------  -----  \n",
      " 0   periodo          4566 non-null   object \n",
      " 1   DIAS1            4566 non-null   float64\n",
      " 2   DIAS2            4566 non-null   float64\n",
      " 3   DIAS3            4566 non-null   float64\n",
      " 4   DIAS4            4566 non-null   float64\n",
      " 5   DIAS5            4566 non-null   float64\n",
      " 6   DIAS6            4566 non-null   float64\n",
      " 7   DIAS0            4566 non-null   int64  \n",
      " 8   Numero_Producto  4566 non-null   int64  \n",
      " 9   GENERO           4566 non-null   object \n",
      " 10  Saldo_Mora1      4566 non-null   object \n",
      " 11  Cupo             1208 non-null   float32\n",
      " 12  Saldo_Mora2      4566 non-null   object \n",
      " 13  Saldo1           4566 non-null   object \n",
      " 14  Saldo_Mora3      4566 non-null   object \n",
      " 15  Saldo2           4566 non-null   object \n",
      " 16  Saldo_Mora4      4566 non-null   object \n",
      " 17  Saldo3           4566 non-null   object \n",
      " 18  Saldo_Mora5      4566 non-null   object \n",
      " 19  Saldo4           4566 non-null   object \n",
      " 20  Saldo_Mora6      4566 non-null   object \n",
      " 21  Saldo5           4566 non-null   object \n",
      " 22  Saldo6           4566 non-null   object \n",
      "dtypes: float32(1), float64(6), int64(2), object(14)\n",
      "memory usage: 838.3+ KB\n"
     ]
    }
   ],
   "source": [
    "df.info()"
   ]
  },
  {
   "cell_type": "code",
   "execution_count": 14,
   "metadata": {
    "id": "qgfzQ8gEiOVd"
   },
   "outputs": [],
   "source": [
    "#se transforman los datos a númericos eliminanado las filas que tengan problemas de formato\n",
    "columns = ['Cupo', 'Saldo_Mora1', 'Saldo_Mora2', 'Saldo_Mora3', 'Saldo_Mora4', \n",
    "           'Saldo_Mora5', 'Saldo_Mora6', 'Saldo1', 'Saldo2', 'Saldo3', 'Saldo4', \n",
    "           'Saldo5', 'Saldo6']\n",
    "for colum in columns:\n",
    "    df[colum] = pd.to_numeric(df[colum], downcast='float', errors = 'coerce') "
   ]
  },
  {
   "cell_type": "code",
   "execution_count": 15,
   "metadata": {
    "id": "eXqK6-Rxk7jV"
   },
   "outputs": [],
   "source": [
    "df = df.dropna()"
   ]
  },
  {
   "cell_type": "code",
   "execution_count": 16,
   "metadata": {
    "colab": {
     "base_uri": "https://localhost:8080/"
    },
    "id": "UHnIwSBSjirM",
    "outputId": "65fe27b3-81e1-4983-a74b-d647a08c5ceb"
   },
   "outputs": [
    {
     "name": "stdout",
     "output_type": "stream",
     "text": [
      "<class 'pandas.core.frame.DataFrame'>\n",
      "Int64Index: 781 entries, 92966498191 to 92966442639\n",
      "Data columns (total 23 columns):\n",
      " #   Column           Non-Null Count  Dtype  \n",
      "---  ------           --------------  -----  \n",
      " 0   periodo          781 non-null    object \n",
      " 1   DIAS1            781 non-null    float64\n",
      " 2   DIAS2            781 non-null    float64\n",
      " 3   DIAS3            781 non-null    float64\n",
      " 4   DIAS4            781 non-null    float64\n",
      " 5   DIAS5            781 non-null    float64\n",
      " 6   DIAS6            781 non-null    float64\n",
      " 7   DIAS0            781 non-null    int64  \n",
      " 8   Numero_Producto  781 non-null    int64  \n",
      " 9   GENERO           781 non-null    object \n",
      " 10  Saldo_Mora1      781 non-null    float32\n",
      " 11  Cupo             781 non-null    float32\n",
      " 12  Saldo_Mora2      781 non-null    float32\n",
      " 13  Saldo1           781 non-null    float32\n",
      " 14  Saldo_Mora3      781 non-null    float32\n",
      " 15  Saldo2           781 non-null    float32\n",
      " 16  Saldo_Mora4      781 non-null    float32\n",
      " 17  Saldo3           781 non-null    float32\n",
      " 18  Saldo_Mora5      781 non-null    float32\n",
      " 19  Saldo4           781 non-null    float32\n",
      " 20  Saldo_Mora6      781 non-null    float32\n",
      " 21  Saldo5           781 non-null    float32\n",
      " 22  Saldo6           781 non-null    float32\n",
      "dtypes: float32(13), float64(6), int64(2), object(2)\n",
      "memory usage: 106.8+ KB\n"
     ]
    }
   ],
   "source": [
    "df.info()"
   ]
  },
  {
   "cell_type": "code",
   "execution_count": 17,
   "metadata": {
    "colab": {
     "base_uri": "https://localhost:8080/"
    },
    "id": "TVKRfhxle5Yd",
    "outputId": "58b48c56-9de4-49a7-b9cc-682ca00b4b60"
   },
   "outputs": [
    {
     "data": {
      "text/plain": [
       "781"
      ]
     },
     "execution_count": 17,
     "metadata": {
      "tags": []
     },
     "output_type": "execute_result"
    }
   ],
   "source": [
    "len(df)"
   ]
  },
  {
   "cell_type": "markdown",
   "metadata": {
    "id": "CuzL4ugDMiKl"
   },
   "source": [
    "# 2. Análisis Descriptivo\n",
    "\n",
    "Se hace una breve descrioción de las variables númericas del problema"
   ]
  },
  {
   "cell_type": "code",
   "execution_count": 18,
   "metadata": {
    "colab": {
     "base_uri": "https://localhost:8080/",
     "height": 700
    },
    "id": "kPnU0PUjLsov",
    "outputId": "3c2374a1-6afb-491a-cfaf-f5a220e035fb"
   },
   "outputs": [
    {
     "data": {
      "text/html": [
       "<div>\n",
       "<style scoped>\n",
       "    .dataframe tbody tr th:only-of-type {\n",
       "        vertical-align: middle;\n",
       "    }\n",
       "\n",
       "    .dataframe tbody tr th {\n",
       "        vertical-align: top;\n",
       "    }\n",
       "\n",
       "    .dataframe thead th {\n",
       "        text-align: right;\n",
       "    }\n",
       "</style>\n",
       "<table border=\"1\" class=\"dataframe\">\n",
       "  <thead>\n",
       "    <tr style=\"text-align: right;\">\n",
       "      <th></th>\n",
       "      <th>count</th>\n",
       "      <th>mean</th>\n",
       "      <th>std</th>\n",
       "      <th>min</th>\n",
       "      <th>25%</th>\n",
       "      <th>50%</th>\n",
       "      <th>75%</th>\n",
       "      <th>max</th>\n",
       "    </tr>\n",
       "  </thead>\n",
       "  <tbody>\n",
       "    <tr>\n",
       "      <th>DIAS1</th>\n",
       "      <td>781.0</td>\n",
       "      <td>4.472471e+00</td>\n",
       "      <td>1.802337e+01</td>\n",
       "      <td>0.0</td>\n",
       "      <td>0.0</td>\n",
       "      <td>0.0</td>\n",
       "      <td>0.0</td>\n",
       "      <td>118.0</td>\n",
       "    </tr>\n",
       "    <tr>\n",
       "      <th>DIAS2</th>\n",
       "      <td>781.0</td>\n",
       "      <td>5.692702e+00</td>\n",
       "      <td>2.324083e+01</td>\n",
       "      <td>0.0</td>\n",
       "      <td>0.0</td>\n",
       "      <td>0.0</td>\n",
       "      <td>0.0</td>\n",
       "      <td>134.0</td>\n",
       "    </tr>\n",
       "    <tr>\n",
       "      <th>DIAS3</th>\n",
       "      <td>781.0</td>\n",
       "      <td>6.955186e+00</td>\n",
       "      <td>2.831457e+01</td>\n",
       "      <td>0.0</td>\n",
       "      <td>0.0</td>\n",
       "      <td>0.0</td>\n",
       "      <td>0.0</td>\n",
       "      <td>163.0</td>\n",
       "    </tr>\n",
       "    <tr>\n",
       "      <th>DIAS4</th>\n",
       "      <td>781.0</td>\n",
       "      <td>8.562100e+00</td>\n",
       "      <td>3.387629e+01</td>\n",
       "      <td>0.0</td>\n",
       "      <td>0.0</td>\n",
       "      <td>0.0</td>\n",
       "      <td>0.0</td>\n",
       "      <td>195.0</td>\n",
       "    </tr>\n",
       "    <tr>\n",
       "      <th>DIAS5</th>\n",
       "      <td>781.0</td>\n",
       "      <td>1.012420e+01</td>\n",
       "      <td>4.033731e+01</td>\n",
       "      <td>0.0</td>\n",
       "      <td>0.0</td>\n",
       "      <td>0.0</td>\n",
       "      <td>0.0</td>\n",
       "      <td>226.0</td>\n",
       "    </tr>\n",
       "    <tr>\n",
       "      <th>DIAS6</th>\n",
       "      <td>781.0</td>\n",
       "      <td>1.134187e+01</td>\n",
       "      <td>4.488852e+01</td>\n",
       "      <td>0.0</td>\n",
       "      <td>0.0</td>\n",
       "      <td>0.0</td>\n",
       "      <td>0.0</td>\n",
       "      <td>254.0</td>\n",
       "    </tr>\n",
       "    <tr>\n",
       "      <th>DIAS0</th>\n",
       "      <td>781.0</td>\n",
       "      <td>4.329065e+00</td>\n",
       "      <td>1.384161e+01</td>\n",
       "      <td>0.0</td>\n",
       "      <td>0.0</td>\n",
       "      <td>0.0</td>\n",
       "      <td>0.0</td>\n",
       "      <td>86.0</td>\n",
       "    </tr>\n",
       "    <tr>\n",
       "      <th>Numero_Producto</th>\n",
       "      <td>781.0</td>\n",
       "      <td>1.204866e+00</td>\n",
       "      <td>5.896778e-01</td>\n",
       "      <td>1.0</td>\n",
       "      <td>1.0</td>\n",
       "      <td>1.0</td>\n",
       "      <td>1.0</td>\n",
       "      <td>6.0</td>\n",
       "    </tr>\n",
       "    <tr>\n",
       "      <th>Saldo_Mora1</th>\n",
       "      <td>781.0</td>\n",
       "      <td>7.817730e+03</td>\n",
       "      <td>7.576074e+04</td>\n",
       "      <td>0.0</td>\n",
       "      <td>0.0</td>\n",
       "      <td>0.0</td>\n",
       "      <td>0.0</td>\n",
       "      <td>2028684.0</td>\n",
       "    </tr>\n",
       "    <tr>\n",
       "      <th>Cupo</th>\n",
       "      <td>781.0</td>\n",
       "      <td>1.542386e+06</td>\n",
       "      <td>1.458442e+07</td>\n",
       "      <td>0.0</td>\n",
       "      <td>0.0</td>\n",
       "      <td>0.0</td>\n",
       "      <td>0.0</td>\n",
       "      <td>313138080.0</td>\n",
       "    </tr>\n",
       "    <tr>\n",
       "      <th>Saldo_Mora2</th>\n",
       "      <td>781.0</td>\n",
       "      <td>8.705292e+03</td>\n",
       "      <td>7.100937e+04</td>\n",
       "      <td>0.0</td>\n",
       "      <td>0.0</td>\n",
       "      <td>0.0</td>\n",
       "      <td>0.0</td>\n",
       "      <td>1624059.0</td>\n",
       "    </tr>\n",
       "    <tr>\n",
       "      <th>Saldo1</th>\n",
       "      <td>781.0</td>\n",
       "      <td>1.474128e+06</td>\n",
       "      <td>1.308412e+07</td>\n",
       "      <td>0.0</td>\n",
       "      <td>0.0</td>\n",
       "      <td>0.0</td>\n",
       "      <td>0.0</td>\n",
       "      <td>255216432.0</td>\n",
       "    </tr>\n",
       "    <tr>\n",
       "      <th>Saldo_Mora3</th>\n",
       "      <td>781.0</td>\n",
       "      <td>8.748557e+03</td>\n",
       "      <td>6.572917e+04</td>\n",
       "      <td>0.0</td>\n",
       "      <td>0.0</td>\n",
       "      <td>0.0</td>\n",
       "      <td>0.0</td>\n",
       "      <td>1376478.0</td>\n",
       "    </tr>\n",
       "    <tr>\n",
       "      <th>Saldo2</th>\n",
       "      <td>781.0</td>\n",
       "      <td>1.502197e+06</td>\n",
       "      <td>1.306256e+07</td>\n",
       "      <td>0.0</td>\n",
       "      <td>0.0</td>\n",
       "      <td>0.0</td>\n",
       "      <td>2.0</td>\n",
       "      <td>257857344.0</td>\n",
       "    </tr>\n",
       "    <tr>\n",
       "      <th>Saldo_Mora4</th>\n",
       "      <td>781.0</td>\n",
       "      <td>1.179107e+04</td>\n",
       "      <td>1.419907e+05</td>\n",
       "      <td>0.0</td>\n",
       "      <td>0.0</td>\n",
       "      <td>0.0</td>\n",
       "      <td>0.0</td>\n",
       "      <td>3798930.0</td>\n",
       "    </tr>\n",
       "    <tr>\n",
       "      <th>Saldo3</th>\n",
       "      <td>781.0</td>\n",
       "      <td>1.446716e+06</td>\n",
       "      <td>1.293999e+07</td>\n",
       "      <td>0.0</td>\n",
       "      <td>0.0</td>\n",
       "      <td>0.0</td>\n",
       "      <td>789.0</td>\n",
       "      <td>260498256.0</td>\n",
       "    </tr>\n",
       "    <tr>\n",
       "      <th>Saldo_Mora5</th>\n",
       "      <td>781.0</td>\n",
       "      <td>1.514731e+04</td>\n",
       "      <td>2.201753e+05</td>\n",
       "      <td>0.0</td>\n",
       "      <td>0.0</td>\n",
       "      <td>0.0</td>\n",
       "      <td>0.0</td>\n",
       "      <td>6038883.0</td>\n",
       "    </tr>\n",
       "    <tr>\n",
       "      <th>Saldo4</th>\n",
       "      <td>781.0</td>\n",
       "      <td>1.513928e+06</td>\n",
       "      <td>1.311333e+07</td>\n",
       "      <td>0.0</td>\n",
       "      <td>0.0</td>\n",
       "      <td>0.0</td>\n",
       "      <td>270.0</td>\n",
       "      <td>263139152.0</td>\n",
       "    </tr>\n",
       "    <tr>\n",
       "      <th>Saldo_Mora6</th>\n",
       "      <td>781.0</td>\n",
       "      <td>1.421021e+04</td>\n",
       "      <td>1.131471e+05</td>\n",
       "      <td>0.0</td>\n",
       "      <td>0.0</td>\n",
       "      <td>0.0</td>\n",
       "      <td>0.0</td>\n",
       "      <td>2271817.0</td>\n",
       "    </tr>\n",
       "    <tr>\n",
       "      <th>Saldo5</th>\n",
       "      <td>781.0</td>\n",
       "      <td>1.476352e+06</td>\n",
       "      <td>1.309289e+07</td>\n",
       "      <td>0.0</td>\n",
       "      <td>0.0</td>\n",
       "      <td>0.0</td>\n",
       "      <td>472.0</td>\n",
       "      <td>265780064.0</td>\n",
       "    </tr>\n",
       "    <tr>\n",
       "      <th>Saldo6</th>\n",
       "      <td>781.0</td>\n",
       "      <td>1.584583e+06</td>\n",
       "      <td>1.318916e+07</td>\n",
       "      <td>0.0</td>\n",
       "      <td>0.0</td>\n",
       "      <td>0.0</td>\n",
       "      <td>15944.0</td>\n",
       "      <td>268401344.0</td>\n",
       "    </tr>\n",
       "  </tbody>\n",
       "</table>\n",
       "</div>"
      ],
      "text/plain": [
       "                 count          mean           std  ...  50%      75%          max\n",
       "DIAS1            781.0  4.472471e+00  1.802337e+01  ...  0.0      0.0        118.0\n",
       "DIAS2            781.0  5.692702e+00  2.324083e+01  ...  0.0      0.0        134.0\n",
       "DIAS3            781.0  6.955186e+00  2.831457e+01  ...  0.0      0.0        163.0\n",
       "DIAS4            781.0  8.562100e+00  3.387629e+01  ...  0.0      0.0        195.0\n",
       "DIAS5            781.0  1.012420e+01  4.033731e+01  ...  0.0      0.0        226.0\n",
       "DIAS6            781.0  1.134187e+01  4.488852e+01  ...  0.0      0.0        254.0\n",
       "DIAS0            781.0  4.329065e+00  1.384161e+01  ...  0.0      0.0         86.0\n",
       "Numero_Producto  781.0  1.204866e+00  5.896778e-01  ...  1.0      1.0          6.0\n",
       "Saldo_Mora1      781.0  7.817730e+03  7.576074e+04  ...  0.0      0.0    2028684.0\n",
       "Cupo             781.0  1.542386e+06  1.458442e+07  ...  0.0      0.0  313138080.0\n",
       "Saldo_Mora2      781.0  8.705292e+03  7.100937e+04  ...  0.0      0.0    1624059.0\n",
       "Saldo1           781.0  1.474128e+06  1.308412e+07  ...  0.0      0.0  255216432.0\n",
       "Saldo_Mora3      781.0  8.748557e+03  6.572917e+04  ...  0.0      0.0    1376478.0\n",
       "Saldo2           781.0  1.502197e+06  1.306256e+07  ...  0.0      2.0  257857344.0\n",
       "Saldo_Mora4      781.0  1.179107e+04  1.419907e+05  ...  0.0      0.0    3798930.0\n",
       "Saldo3           781.0  1.446716e+06  1.293999e+07  ...  0.0    789.0  260498256.0\n",
       "Saldo_Mora5      781.0  1.514731e+04  2.201753e+05  ...  0.0      0.0    6038883.0\n",
       "Saldo4           781.0  1.513928e+06  1.311333e+07  ...  0.0    270.0  263139152.0\n",
       "Saldo_Mora6      781.0  1.421021e+04  1.131471e+05  ...  0.0      0.0    2271817.0\n",
       "Saldo5           781.0  1.476352e+06  1.309289e+07  ...  0.0    472.0  265780064.0\n",
       "Saldo6           781.0  1.584583e+06  1.318916e+07  ...  0.0  15944.0  268401344.0\n",
       "\n",
       "[21 rows x 8 columns]"
      ]
     },
     "execution_count": 18,
     "metadata": {
      "tags": []
     },
     "output_type": "execute_result"
    }
   ],
   "source": [
    "df.describe().T"
   ]
  },
  {
   "cell_type": "markdown",
   "metadata": {
    "id": "7ZTXr6pNpJb7"
   },
   "source": [
    "# 3 Construcción de de variables\n",
    "## Saldo promedio de los ultimos 6 meses\n",
    "\n",
    "Se construyen 3 varaibles"
   ]
  },
  {
   "cell_type": "code",
   "execution_count": 19,
   "metadata": {
    "id": "Koyry7B1udZg"
   },
   "outputs": [],
   "source": [
    "df['Saldo_Promedio'] = (df['Saldo1'] + df['Saldo2'] + df['Saldo3'] + df['Saldo4'] + df['Saldo5']+ df['Saldo6']) / 6"
   ]
  },
  {
   "cell_type": "markdown",
   "metadata": {
    "id": "eaj2ZEDuvim5"
   },
   "source": [
    "## Flag género"
   ]
  },
  {
   "cell_type": "code",
   "execution_count": 20,
   "metadata": {
    "id": "uxm0T7apLsh0"
   },
   "outputs": [],
   "source": [
    "df['Flag_Genero'] = df.GENERO.eq('F').mul(1)"
   ]
  },
  {
   "cell_type": "markdown",
   "metadata": {
    "id": "TogjeqV9wVUg"
   },
   "source": [
    "## Porcentaje promedio de saldo en mora"
   ]
  },
  {
   "cell_type": "code",
   "execution_count": 21,
   "metadata": {
    "id": "Q_zfvSt-LsSQ"
   },
   "outputs": [],
   "source": [
    "df['Porc_prom_Saldo_mora'] = (df['Saldo_Mora1'] + df['Saldo_Mora2'] + df['Saldo_Mora3'] + df['Saldo_Mora4']  + df['Saldo_Mora5'] + df['Saldo_Mora6'])/6"
   ]
  },
  {
   "cell_type": "markdown",
   "metadata": {
    "id": "Z0O_PRhbyKcC"
   },
   "source": [
    "# 4. Clientes buenos y malos\n",
    "Se crean dos etiquetas para los clientes tomando 0 como clientes buenos y 1 como clientes malos  "
   ]
  },
  {
   "cell_type": "code",
   "execution_count": 22,
   "metadata": {
    "id": "peiH2PbaxAGR"
   },
   "outputs": [],
   "source": [
    "df['Tipo_Cliente_1'] = 0"
   ]
  },
  {
   "cell_type": "code",
   "execution_count": 23,
   "metadata": {
    "colab": {
     "base_uri": "https://localhost:8080/"
    },
    "id": "acgQCjYLym8g",
    "outputId": "f585fe39-fcbd-4187-c3ab-299071b1a345"
   },
   "outputs": [
    {
     "data": {
      "text/plain": [
       "0    731\n",
       "1     50\n",
       "Name: Tipo_Cliente_1, dtype: int64"
      ]
     },
     "execution_count": 23,
     "metadata": {
      "tags": []
     },
     "output_type": "execute_result"
    }
   ],
   "source": [
    "#Clientes que que luego de los 6 meses hayan alcanzado un máximo de 30 días en mora\n",
    "for i, cli in enumerate(df['Tipo_Cliente_1']):\n",
    "  indexx = df['Tipo_Cliente_1'].index[i]\n",
    "  if df['DIAS6'][indexx] > 30:\n",
    "    df['Tipo_Cliente_1'][indexx]= 1\n",
    "\n",
    "df['Tipo_Cliente_1'].value_counts()"
   ]
  },
  {
   "cell_type": "code",
   "execution_count": 24,
   "metadata": {
    "colab": {
     "base_uri": "https://localhost:8080/"
    },
    "id": "_M_BMD30z_Ha",
    "outputId": "46c86f7b-c3a5-4d2d-a9af-5921b4fd4fd7"
   },
   "outputs": [
    {
     "data": {
      "text/plain": [
       "0    740\n",
       "1     41\n",
       "Name: Tipo_Cliente_2, dtype: int64"
      ]
     },
     "execution_count": 24,
     "metadata": {
      "tags": []
     },
     "output_type": "execute_result"
    }
   ],
   "source": [
    "#Clientes que que luego de los 6 meses hayan alcanzado un máximo de 90 días en mora.\n",
    "df['Tipo_Cliente_2'] = 0\n",
    "\n",
    "for i, cli in enumerate(df['Tipo_Cliente_1']):\n",
    "  indexx = df['Tipo_Cliente_2'].index[i]\n",
    "  if df['DIAS6'][indexx] > 90:\n",
    "    df['Tipo_Cliente_2'][indexx]= 1\n",
    "df['Tipo_Cliente_2'].value_counts()"
   ]
  },
  {
   "cell_type": "markdown",
   "metadata": {
    "id": "qZACRrDs1uvr"
   },
   "source": [
    "# 5. Realice un modelo de regresión logística con las variables construidas en el punto 3 contra una de las variables respuesta del punto anterior."
   ]
  },
  {
   "cell_type": "code",
   "execution_count": 25,
   "metadata": {
    "id": "QGPD7Pgq1kFi"
   },
   "outputs": [],
   "source": [
    "#Variable categorica\n",
    "y = df['Tipo_Cliente_1'].values"
   ]
  },
  {
   "cell_type": "code",
   "execution_count": 27,
   "metadata": {
    "id": "CpZQavzt6J4t"
   },
   "outputs": [],
   "source": [
    "#Caracterisiticas del problema \n",
    "df_X = pd.DataFrame([])\n",
    "df_X['Flag_Genero'] = df['Flag_Genero']\n",
    "df_X['Saldo_Promedio'] = df['Saldo_Promedio']\n",
    "df_X['Porc_prom_Saldo_mora'] = df['Porc_prom_Saldo_mora']\n",
    "X = df_X.values"
   ]
  },
  {
   "cell_type": "code",
   "execution_count": 28,
   "metadata": {
    "id": "lOGSV9uA1r9D"
   },
   "outputs": [],
   "source": [
    "#Entranamiento del problema\n",
    "from sklearn.model_selection import train_test_split"
   ]
  },
  {
   "cell_type": "code",
   "execution_count": 29,
   "metadata": {
    "id": "G0dHWbt31r6q"
   },
   "outputs": [],
   "source": [
    "X_train, X_test, y_train, y_test = train_test_split(X, y, test_size=0.33, random_state=42)"
   ]
  },
  {
   "cell_type": "code",
   "execution_count": 30,
   "metadata": {
    "id": "9uxqjxOc1r1l"
   },
   "outputs": [],
   "source": [
    "from sklearn.linear_model import LogisticRegression\n",
    "clf = LogisticRegression(random_state=0).fit(X, y)"
   ]
  },
  {
   "cell_type": "markdown",
   "metadata": {
    "id": "ergzdXdkAbr4"
   },
   "source": [
    "# Evaluación del modelo"
   ]
  },
  {
   "cell_type": "code",
   "execution_count": 31,
   "metadata": {
    "colab": {
     "base_uri": "https://localhost:8080/"
    },
    "id": "RfzOzZvc66a2",
    "outputId": "6b43d0c9-39c2-4ce1-f60d-c8aeb46ceed4"
   },
   "outputs": [
    {
     "name": "stdout",
     "output_type": "stream",
     "text": [
      "              precision    recall  f1-score   support\n",
      "\n",
      "           0       0.94      0.94      0.94       242\n",
      "           1       0.12      0.12      0.12        16\n",
      "\n",
      "    accuracy                           0.89       258\n",
      "   macro avg       0.53      0.53      0.53       258\n",
      "weighted avg       0.89      0.89      0.89       258\n",
      "\n"
     ]
    }
   ],
   "source": [
    "Çfrom sklearn.metrics import classification_report\n",
    "y_pred = clf.predict(X_test)\n",
    "print(classification_report(y_test, y_pred))"
   ]
  },
  {
   "cell_type": "code",
   "execution_count": 32,
   "metadata": {
    "colab": {
     "base_uri": "https://localhost:8080/"
    },
    "id": "gYBJ0VDP7XxN",
    "outputId": "7ae97ff5-bce9-4f77-be73-6aaa5680563d"
   },
   "outputs": [
    {
     "data": {
      "text/plain": [
       "array([[228,  14],\n",
       "       [ 14,   2]])"
      ]
     },
     "execution_count": 32,
     "metadata": {
      "tags": []
     },
     "output_type": "execute_result"
    }
   ],
   "source": [
    "from sklearn.metrics import confusion_matrix\n",
    "confusion_matrix(y_test, y_pred)"
   ]
  },
  {
   "cell_type": "markdown",
   "metadata": {
    "id": "0lgf84xu8XWO"
   },
   "source": [
    "# 6. Responda las siguientes preguntas:\n",
    "• Justifique la elección de la variable respuesta, según su criterio.\n",
    "\n",
    "Elegí el primer tipo de cliente para tener una primera impresión del comportamiento del problema con un flitro de tipo de cliente no tan exigente, para luego subir el límite.\n",
    "\n",
    "Las variables del Género la elegí porque queria saber si la capidad de endedamiento tiene una correlación directa con está variable.\n",
    "\n",
    "El saldo promedio me pareció relevante debido a que, es la varaible que me dice que si tengo o no capidad para pagar.\n",
    "\n",
    "El saldo en mora proimedio lo elegí debido a que si se tiene saldos en mora pequeños se espera que ese comportamiento siga así ser un buen cliente.\n",
    "\n",
    "\n",
    "\n",
    "• Calcule la tasa de malos con la variable respuesta elegida (Malos/Total Registros).\n",
    "\n",
    "\n",
    "\n",
    "\n",
    "\n"
   ]
  },
  {
   "cell_type": "code",
   "execution_count": 33,
   "metadata": {
    "colab": {
     "base_uri": "https://localhost:8080/"
    },
    "id": "sNMXQiv07xlt",
    "outputId": "c8eeba3f-319e-4cd6-e7f0-cd1ba4ca8a45"
   },
   "outputs": [
    {
     "data": {
      "text/plain": [
       "array([[  0, 242],\n",
       "       [  1,  16]])"
      ]
     },
     "execution_count": 33,
     "metadata": {
      "tags": []
     },
     "output_type": "execute_result"
    }
   ],
   "source": [
    "np.array(np.unique(y_pred, return_counts=True)).T"
   ]
  },
  {
   "cell_type": "code",
   "execution_count": 34,
   "metadata": {
    "colab": {
     "base_uri": "https://localhost:8080/"
    },
    "id": "yVbVp_JU-A4k",
    "outputId": "bd773396-40b6-4359-aed5-f5ade604d365"
   },
   "outputs": [
    {
     "name": "stdout",
     "output_type": "stream",
     "text": [
      "Tasa de malos: 0.061068702290076333\n"
     ]
    }
   ],
   "source": [
    "print('Tasa de malos:', 16/(246+16))"
   ]
  },
  {
   "cell_type": "markdown",
   "metadata": {
    "id": "Q74kGeL99mwX"
   },
   "source": [
    "\n",
    "• ¿Qué variables resultaron predictivas en el modelo?\n",
    "\n",
    "La variable que se puede predicir con mayor facilidad es si un cliente va a ser bueno, ya que se tiene un problema con desbalance de clases, lo que quiere decir que se tiene una muestra pequeña de malos clientes para entrenar el modelo, y este comportamiento tambien es debido a que se puede mejorar las caracteristicas con las cuales se entrena el modelo."
   ]
  },
  {
   "cell_type": "code",
   "execution_count": 34,
   "metadata": {
    "id": "DCQTne3U9nZm"
   },
   "outputs": [],
   "source": []
  }
 ],
 "metadata": {
  "colab": {
   "name": "Experian.ipynb",
   "provenance": []
  },
  "kernelspec": {
   "display_name": "Python 3",
   "language": "python",
   "name": "python3"
  },
  "language_info": {
   "codemirror_mode": {
    "name": "ipython",
    "version": 3
   },
   "file_extension": ".py",
   "mimetype": "text/x-python",
   "name": "python",
   "nbconvert_exporter": "python",
   "pygments_lexer": "ipython3",
   "version": "3.7.6"
  }
 },
 "nbformat": 4,
 "nbformat_minor": 1
}
