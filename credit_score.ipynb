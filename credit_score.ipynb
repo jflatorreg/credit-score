{
 "cells": [
  {
   "cell_type": "markdown",
   "metadata": {
    "id": "n8eB64zqAhIx"
   },
   "source": [
    "# Credit Score\n",
    "En este proyecto se propone la construcción de modelo predictivo que permita determinar el comportamiento de un buen o mal cliente, a partir de su historial de pago de un crédito."
   ]
  },
  {
   "cell_type": "code",
   "execution_count": 1,
   "metadata": {
    "id": "HopCI7ruLba-"
   },
   "outputs": [],
   "source": [
    "import pandas as pd\n",
    "import numpy as np\n",
    "import matplotlib.pyplot as plt"
   ]
  },
  {
   "cell_type": "markdown",
   "metadata": {},
   "source": [
    "# Database Description\n",
    "\n",
    "Descripción de la base de datos de la entidad bancaria.\n",
    "\n",
    "|Variables            |Descripción|\n",
    "|---------------------|---|\n",
    "|ID                   |Llave de identificación|\n",
    "|Periodo              |Fecha de Observación (AAAAMM)|\n",
    "|Dias 0-6             |Dias0: cantidad de días en mora, a la fecha de observación|\n",
    "| |Dias1: cantidad de días en mora, un mes después de la observación.| \n",
    "| |...|\n",
    "| |Dias6: cantidad de días en mora, seis meses después de la observación|\n",
    "|Número_Producto      |Número de productos a la fecha|\n",
    "|Genero               |Género (M-F)|\n",
    "|Saldo_Mora 1-6(Pesos)|Saldo_Mora1: saldo del crédito en mora, un mes después de la observación|\n",
    "|| ...|\n",
    "|| Saldo_Mora6: saldo del crédito en mora, seis meses después de la observación|\n",
    "|Cupo (Pesos)         |Monto del crédito otorgado|\n",
    "|Saldo 1-6 (Pesos)    |Saldo1: saldo del crédito, un mes después de la observación|\n",
    "|| ...|\n",
    "|| Saldo6: saldo del crédito, seis meses después de la observación|"
   ]
  },
  {
   "cell_type": "markdown",
   "metadata": {},
   "source": [
    "# 1. Data Pre-Processing"
   ]
  },
  {
   "cell_type": "code",
   "execution_count": 2,
   "metadata": {
    "id": "tu_sf-QrLstq"
   },
   "outputs": [],
   "source": [
    "df = pd.read_csv('Anonimizada_DataBase.txt', delimiter = '|')"
   ]
  },
  {
   "cell_type": "code",
   "execution_count": 3,
   "metadata": {
    "colab": {
     "base_uri": "https://localhost:8080/",
     "height": 224
    },
    "id": "7GJNf_AVLsrO",
    "outputId": "2c945b13-3c9f-4437-acde-511b2c4da599"
   },
   "outputs": [
    {
     "data": {
      "text/html": [
       "<div>\n",
       "<style scoped>\n",
       "    .dataframe tbody tr th:only-of-type {\n",
       "        vertical-align: middle;\n",
       "    }\n",
       "\n",
       "    .dataframe tbody tr th {\n",
       "        vertical-align: top;\n",
       "    }\n",
       "\n",
       "    .dataframe thead th {\n",
       "        text-align: right;\n",
       "    }\n",
       "</style>\n",
       "<table border=\"1\" class=\"dataframe\">\n",
       "  <thead>\n",
       "    <tr style=\"text-align: right;\">\n",
       "      <th></th>\n",
       "      <th>Identificador</th>\n",
       "      <th>periodo</th>\n",
       "      <th>DIAS1</th>\n",
       "      <th>DIAS2</th>\n",
       "      <th>DIAS3</th>\n",
       "      <th>DIAS4</th>\n",
       "      <th>DIAS5</th>\n",
       "      <th>DIAS6</th>\n",
       "      <th>DIAS0</th>\n",
       "      <th>Numero_Producto</th>\n",
       "      <th>...</th>\n",
       "      <th>Saldo1</th>\n",
       "      <th>Saldo_Mora3</th>\n",
       "      <th>Saldo2</th>\n",
       "      <th>Saldo_Mora4</th>\n",
       "      <th>Saldo3</th>\n",
       "      <th>Saldo_Mora5</th>\n",
       "      <th>Saldo4</th>\n",
       "      <th>Saldo_Mora6</th>\n",
       "      <th>Saldo5</th>\n",
       "      <th>Saldo6</th>\n",
       "    </tr>\n",
       "  </thead>\n",
       "  <tbody>\n",
       "    <tr>\n",
       "      <th>0</th>\n",
       "      <td>92966525716</td>\n",
       "      <td>201709</td>\n",
       "      <td>7.0</td>\n",
       "      <td>6.0</td>\n",
       "      <td>0.0</td>\n",
       "      <td>0.0</td>\n",
       "      <td>0.0</td>\n",
       "      <td>4.0</td>\n",
       "      <td>5</td>\n",
       "      <td>1</td>\n",
       "      <td>...</td>\n",
       "      <td>NaN</td>\n",
       "      <td>NaN</td>\n",
       "      <td>NaN</td>\n",
       "      <td>NaN</td>\n",
       "      <td>NaN</td>\n",
       "      <td>NaN</td>\n",
       "      <td>NaN</td>\n",
       "      <td>NaN</td>\n",
       "      <td>NaN</td>\n",
       "      <td>NaN</td>\n",
       "    </tr>\n",
       "    <tr>\n",
       "      <th>1</th>\n",
       "      <td>92967390638</td>\n",
       "      <td>201709</td>\n",
       "      <td>0.0</td>\n",
       "      <td>0.0</td>\n",
       "      <td>0.0</td>\n",
       "      <td>0.0</td>\n",
       "      <td>0.0</td>\n",
       "      <td>0.0</td>\n",
       "      <td>0</td>\n",
       "      <td>1</td>\n",
       "      <td>...</td>\n",
       "      <td>14493557,79</td>\n",
       "      <td>294570,52</td>\n",
       "      <td>14383360,76</td>\n",
       "      <td>294569,96</td>\n",
       "      <td>14271872,86</td>\n",
       "      <td>294569,05</td>\n",
       "      <td>14159078,99</td>\n",
       "      <td>294567,62</td>\n",
       "      <td>14044963,84</td>\n",
       "      <td>13929511,94</td>\n",
       "    </tr>\n",
       "    <tr>\n",
       "      <th>2</th>\n",
       "      <td>92967489284</td>\n",
       "      <td>201712</td>\n",
       "      <td>0.0</td>\n",
       "      <td>0.0</td>\n",
       "      <td>0.0</td>\n",
       "      <td>0.0</td>\n",
       "      <td>0.0</td>\n",
       "      <td>0.0</td>\n",
       "      <td>0</td>\n",
       "      <td>1</td>\n",
       "      <td>...</td>\n",
       "      <td>NaN</td>\n",
       "      <td>0</td>\n",
       "      <td>0</td>\n",
       "      <td>12262</td>\n",
       "      <td>3524442</td>\n",
       "      <td>49553</td>\n",
       "      <td>3516034,8</td>\n",
       "      <td>41122</td>\n",
       "      <td>2989794,73</td>\n",
       "      <td>2830734,73</td>\n",
       "    </tr>\n",
       "    <tr>\n",
       "      <th>3</th>\n",
       "      <td>92966459151</td>\n",
       "      <td>201809</td>\n",
       "      <td>0.0</td>\n",
       "      <td>0.0</td>\n",
       "      <td>0.0</td>\n",
       "      <td>0.0</td>\n",
       "      <td>0.0</td>\n",
       "      <td>NaN</td>\n",
       "      <td>0</td>\n",
       "      <td>2</td>\n",
       "      <td>...</td>\n",
       "      <td>9738321.38</td>\n",
       "      <td>32433</td>\n",
       "      <td>32433</td>\n",
       "      <td>32433</td>\n",
       "      <td>32433</td>\n",
       "      <td>32433</td>\n",
       "      <td>32433</td>\n",
       "      <td>32433</td>\n",
       "      <td>32433</td>\n",
       "      <td>0</td>\n",
       "    </tr>\n",
       "    <tr>\n",
       "      <th>4</th>\n",
       "      <td>92966529824</td>\n",
       "      <td>201712</td>\n",
       "      <td>0.0</td>\n",
       "      <td>0.0</td>\n",
       "      <td>0.0</td>\n",
       "      <td>0.0</td>\n",
       "      <td>0.0</td>\n",
       "      <td>5.0</td>\n",
       "      <td>4</td>\n",
       "      <td>1</td>\n",
       "      <td>...</td>\n",
       "      <td>NaN</td>\n",
       "      <td>NaN</td>\n",
       "      <td>NaN</td>\n",
       "      <td>NaN</td>\n",
       "      <td>NaN</td>\n",
       "      <td>NaN</td>\n",
       "      <td>NaN</td>\n",
       "      <td>NaN</td>\n",
       "      <td>NaN</td>\n",
       "      <td>NaN</td>\n",
       "    </tr>\n",
       "  </tbody>\n",
       "</table>\n",
       "<p>5 rows × 24 columns</p>\n",
       "</div>"
      ],
      "text/plain": [
       "   Identificador  periodo  DIAS1  DIAS2  DIAS3  DIAS4  DIAS5  DIAS6  DIAS0  \\\n",
       "0    92966525716   201709    7.0    6.0    0.0    0.0    0.0    4.0      5   \n",
       "1    92967390638   201709    0.0    0.0    0.0    0.0    0.0    0.0      0   \n",
       "2    92967489284   201712    0.0    0.0    0.0    0.0    0.0    0.0      0   \n",
       "3    92966459151   201809    0.0    0.0    0.0    0.0    0.0    NaN      0   \n",
       "4    92966529824   201712    0.0    0.0    0.0    0.0    0.0    5.0      4   \n",
       "\n",
       "   Numero_Producto  ...       Saldo1 Saldo_Mora3       Saldo2 Saldo_Mora4  \\\n",
       "0                1  ...          NaN         NaN          NaN         NaN   \n",
       "1                1  ...  14493557,79   294570,52  14383360,76   294569,96   \n",
       "2                1  ...          NaN           0            0       12262   \n",
       "3                2  ...   9738321.38       32433        32433       32433   \n",
       "4                1  ...          NaN         NaN          NaN         NaN   \n",
       "\n",
       "        Saldo3 Saldo_Mora5       Saldo4 Saldo_Mora6       Saldo5       Saldo6  \n",
       "0          NaN         NaN          NaN         NaN          NaN          NaN  \n",
       "1  14271872,86   294569,05  14159078,99   294567,62  14044963,84  13929511,94  \n",
       "2      3524442       49553    3516034,8       41122   2989794,73   2830734,73  \n",
       "3        32433       32433        32433       32433        32433            0  \n",
       "4          NaN         NaN          NaN         NaN          NaN          NaN  \n",
       "\n",
       "[5 rows x 24 columns]"
      ]
     },
     "execution_count": 3,
     "metadata": {},
     "output_type": "execute_result"
    }
   ],
   "source": [
    "df.head()"
   ]
  },
  {
   "cell_type": "code",
   "execution_count": 4,
   "metadata": {},
   "outputs": [
    {
     "name": "stdout",
     "output_type": "stream",
     "text": [
      "<class 'pandas.core.frame.DataFrame'>\n",
      "RangeIndex: 30000 entries, 0 to 29999\n",
      "Data columns (total 24 columns):\n",
      " #   Column           Non-Null Count  Dtype  \n",
      "---  ------           --------------  -----  \n",
      " 0   Identificador    30000 non-null  int64  \n",
      " 1   periodo          30000 non-null  int64  \n",
      " 2   DIAS1            29213 non-null  float64\n",
      " 3   DIAS2            28616 non-null  float64\n",
      " 4   DIAS3            28070 non-null  float64\n",
      " 5   DIAS4            27369 non-null  float64\n",
      " 6   DIAS5            26792 non-null  float64\n",
      " 7   DIAS6            22642 non-null  float64\n",
      " 8   DIAS0            30000 non-null  int64  \n",
      " 9   Numero_Producto  30000 non-null  int64  \n",
      " 10  GENERO           23819 non-null  object \n",
      " 11  Saldo_Mora1      21592 non-null  object \n",
      " 12  Cupo             21592 non-null  object \n",
      " 13  Saldo_Mora2      22213 non-null  object \n",
      " 14  Saldo1           22213 non-null  object \n",
      " 15  Saldo_Mora3      22877 non-null  object \n",
      " 16  Saldo2           22877 non-null  object \n",
      " 17  Saldo_Mora4      23543 non-null  object \n",
      " 18  Saldo3           23543 non-null  object \n",
      " 19  Saldo_Mora5      24157 non-null  object \n",
      " 20  Saldo4           24157 non-null  object \n",
      " 21  Saldo_Mora6      24889 non-null  object \n",
      " 22  Saldo5           24889 non-null  object \n",
      " 23  Saldo6           25604 non-null  object \n",
      "dtypes: float64(6), int64(4), object(14)\n",
      "memory usage: 5.5+ MB\n"
     ]
    }
   ],
   "source": [
    "df.info()"
   ]
  },
  {
   "cell_type": "markdown",
   "metadata": {},
   "source": [
    "## Se deben hacer cambios de tipo de datos en algunas columnas. La columna Periodo, debe tener formato de fecha y las columnas Cupo y Saldo y DIAS0 deben ser tipo float. \n",
    "\n",
    "### Periodo"
   ]
  },
  {
   "cell_type": "code",
   "execution_count": 5,
   "metadata": {},
   "outputs": [
    {
     "data": {
      "text/plain": [
       "dtype('int64')"
      ]
     },
     "execution_count": 5,
     "metadata": {},
     "output_type": "execute_result"
    }
   ],
   "source": [
    "df['periodo'].dtypes"
   ]
  },
  {
   "cell_type": "code",
   "execution_count": 6,
   "metadata": {
    "id": "m99h2oHdOXrL"
   },
   "outputs": [],
   "source": [
    "#Resultados en meses \n",
    "#df['periodo'] = pd.to_datetime(df['periodo'], format='%Y%m', errors='coerce').dt.to_period('m')\n",
    "df['periodo'] = pd.to_datetime(df['periodo'], format='%Y%m', errors='coerce')"
   ]
  },
  {
   "cell_type": "code",
   "execution_count": 7,
   "metadata": {},
   "outputs": [
    {
     "data": {
      "text/plain": [
       "dtype('<M8[ns]')"
      ]
     },
     "execution_count": 7,
     "metadata": {},
     "output_type": "execute_result"
    }
   ],
   "source": [
    "df['periodo'].dtypes"
   ]
  },
  {
   "cell_type": "markdown",
   "metadata": {},
   "source": [
    "### Cupo y Saldo"
   ]
  },
  {
   "cell_type": "code",
   "execution_count": 8,
   "metadata": {},
   "outputs": [],
   "source": [
    "columns = ['Cupo', 'Saldo_Mora1', 'Saldo_Mora2', 'Saldo_Mora3', 'Saldo_Mora4', \n",
    "           'Saldo_Mora5', 'Saldo_Mora6', 'Saldo1', 'Saldo2', 'Saldo3', 'Saldo4', \n",
    "           'Saldo5', 'Saldo6']\n",
    "for colum in columns:\n",
    "    df[colum] = pd.to_numeric(df[colum], downcast='float', errors = 'coerce').astype(float)"
   ]
  },
  {
   "cell_type": "markdown",
   "metadata": {},
   "source": [
    "### DIAS0"
   ]
  },
  {
   "cell_type": "code",
   "execution_count": 9,
   "metadata": {},
   "outputs": [],
   "source": [
    "df['DIAS0'] = df['DIAS0'].astype(float)"
   ]
  },
  {
   "cell_type": "markdown",
   "metadata": {},
   "source": [
    "## Index. Se define el index de la base de datos con la columna Identificador. Las entradas de campo deben ser únicas, así que se deben hacer un filtrado. "
   ]
  },
  {
   "cell_type": "code",
   "execution_count": 10,
   "metadata": {
    "colab": {
     "base_uri": "https://localhost:8080/"
    },
    "id": "-CtA9n5bR50y",
    "outputId": "cbd10232-f0e0-489b-838d-517312f562d2"
   },
   "outputs": [
    {
     "name": "stdout",
     "output_type": "stream",
     "text": [
      "Se tienen 30000 entradas.\n"
     ]
    }
   ],
   "source": [
    "print('Se tienen', df['Identificador'].count(), 'entradas.')"
   ]
  },
  {
   "cell_type": "code",
   "execution_count": 11,
   "metadata": {
    "colab": {
     "base_uri": "https://localhost:8080/"
    },
    "id": "PsCip_BMSEaB",
    "outputId": "0904acf8-6c37-46d5-cfee-fd092aa7a360"
   },
   "outputs": [
    {
     "name": "stdout",
     "output_type": "stream",
     "text": [
      "Solo 18101 don únicas\n"
     ]
    }
   ],
   "source": [
    "print('Solo', df['Identificador'].nunique(), 'don únicas')"
   ]
  },
  {
   "cell_type": "code",
   "execution_count": 12,
   "metadata": {
    "id": "PhMJsSX9SGnS"
   },
   "outputs": [],
   "source": [
    "# Se Eliminan datos repetidos\n",
    "df = df.drop_duplicates(subset=['Identificador'],  keep= False)"
   ]
  },
  {
   "cell_type": "code",
   "execution_count": 13,
   "metadata": {
    "id": "W1wWabHvSRzh"
   },
   "outputs": [],
   "source": [
    "#Se elije la comuna Identificador como Index \n",
    "df = df.set_index('Identificador')"
   ]
  },
  {
   "cell_type": "code",
   "execution_count": 14,
   "metadata": {
    "id": "cNOs83HkSWSb"
   },
   "outputs": [],
   "source": [
    "#Se eliminan entradas con valores Nan\n",
    "df = df.dropna()"
   ]
  },
  {
   "cell_type": "code",
   "execution_count": 15,
   "metadata": {
    "colab": {
     "base_uri": "https://localhost:8080/",
     "height": 470
    },
    "id": "asBh8T38SXKZ",
    "outputId": "88b3d390-649d-49ab-9572-0349dfcd5cd4"
   },
   "outputs": [
    {
     "data": {
      "text/html": [
       "<div>\n",
       "<style scoped>\n",
       "    .dataframe tbody tr th:only-of-type {\n",
       "        vertical-align: middle;\n",
       "    }\n",
       "\n",
       "    .dataframe tbody tr th {\n",
       "        vertical-align: top;\n",
       "    }\n",
       "\n",
       "    .dataframe thead th {\n",
       "        text-align: right;\n",
       "    }\n",
       "</style>\n",
       "<table border=\"1\" class=\"dataframe\">\n",
       "  <thead>\n",
       "    <tr style=\"text-align: right;\">\n",
       "      <th></th>\n",
       "      <th>periodo</th>\n",
       "      <th>DIAS1</th>\n",
       "      <th>DIAS2</th>\n",
       "      <th>DIAS3</th>\n",
       "      <th>DIAS4</th>\n",
       "      <th>DIAS5</th>\n",
       "      <th>DIAS6</th>\n",
       "      <th>DIAS0</th>\n",
       "      <th>Numero_Producto</th>\n",
       "      <th>GENERO</th>\n",
       "      <th>...</th>\n",
       "      <th>Saldo1</th>\n",
       "      <th>Saldo_Mora3</th>\n",
       "      <th>Saldo2</th>\n",
       "      <th>Saldo_Mora4</th>\n",
       "      <th>Saldo3</th>\n",
       "      <th>Saldo_Mora5</th>\n",
       "      <th>Saldo4</th>\n",
       "      <th>Saldo_Mora6</th>\n",
       "      <th>Saldo5</th>\n",
       "      <th>Saldo6</th>\n",
       "    </tr>\n",
       "    <tr>\n",
       "      <th>Identificador</th>\n",
       "      <th></th>\n",
       "      <th></th>\n",
       "      <th></th>\n",
       "      <th></th>\n",
       "      <th></th>\n",
       "      <th></th>\n",
       "      <th></th>\n",
       "      <th></th>\n",
       "      <th></th>\n",
       "      <th></th>\n",
       "      <th></th>\n",
       "      <th></th>\n",
       "      <th></th>\n",
       "      <th></th>\n",
       "      <th></th>\n",
       "      <th></th>\n",
       "      <th></th>\n",
       "      <th></th>\n",
       "      <th></th>\n",
       "      <th></th>\n",
       "      <th></th>\n",
       "    </tr>\n",
       "  </thead>\n",
       "  <tbody>\n",
       "    <tr>\n",
       "      <th>92966498191</th>\n",
       "      <td>2017-12-01</td>\n",
       "      <td>0.0</td>\n",
       "      <td>0.0</td>\n",
       "      <td>0.0</td>\n",
       "      <td>0.0</td>\n",
       "      <td>0.0</td>\n",
       "      <td>0.0</td>\n",
       "      <td>0.0</td>\n",
       "      <td>1</td>\n",
       "      <td>F</td>\n",
       "      <td>...</td>\n",
       "      <td>826282.0</td>\n",
       "      <td>22918.0</td>\n",
       "      <td>880038.0</td>\n",
       "      <td>21547.0</td>\n",
       "      <td>875198.0</td>\n",
       "      <td>22184.0</td>\n",
       "      <td>859556.0</td>\n",
       "      <td>23081.0</td>\n",
       "      <td>844034.0</td>\n",
       "      <td>827736.0</td>\n",
       "    </tr>\n",
       "    <tr>\n",
       "      <th>92966442488</th>\n",
       "      <td>2017-12-01</td>\n",
       "      <td>0.0</td>\n",
       "      <td>0.0</td>\n",
       "      <td>0.0</td>\n",
       "      <td>0.0</td>\n",
       "      <td>0.0</td>\n",
       "      <td>0.0</td>\n",
       "      <td>0.0</td>\n",
       "      <td>1</td>\n",
       "      <td>M</td>\n",
       "      <td>...</td>\n",
       "      <td>0.0</td>\n",
       "      <td>0.0</td>\n",
       "      <td>0.0</td>\n",
       "      <td>0.0</td>\n",
       "      <td>0.0</td>\n",
       "      <td>0.0</td>\n",
       "      <td>0.0</td>\n",
       "      <td>0.0</td>\n",
       "      <td>0.0</td>\n",
       "      <td>0.0</td>\n",
       "    </tr>\n",
       "    <tr>\n",
       "      <th>92967417881</th>\n",
       "      <td>2018-06-01</td>\n",
       "      <td>42.0</td>\n",
       "      <td>73.0</td>\n",
       "      <td>101.0</td>\n",
       "      <td>134.0</td>\n",
       "      <td>164.0</td>\n",
       "      <td>192.0</td>\n",
       "      <td>10.0</td>\n",
       "      <td>2</td>\n",
       "      <td>M</td>\n",
       "      <td>...</td>\n",
       "      <td>10262.0</td>\n",
       "      <td>800.0</td>\n",
       "      <td>10534.0</td>\n",
       "      <td>117.0</td>\n",
       "      <td>10249.0</td>\n",
       "      <td>10607.0</td>\n",
       "      <td>20572.0</td>\n",
       "      <td>23824.0</td>\n",
       "      <td>21573.0</td>\n",
       "      <td>81389.0</td>\n",
       "    </tr>\n",
       "    <tr>\n",
       "      <th>92966457920</th>\n",
       "      <td>2018-06-01</td>\n",
       "      <td>0.0</td>\n",
       "      <td>0.0</td>\n",
       "      <td>0.0</td>\n",
       "      <td>0.0</td>\n",
       "      <td>0.0</td>\n",
       "      <td>0.0</td>\n",
       "      <td>0.0</td>\n",
       "      <td>1</td>\n",
       "      <td>F</td>\n",
       "      <td>...</td>\n",
       "      <td>0.0</td>\n",
       "      <td>0.0</td>\n",
       "      <td>0.0</td>\n",
       "      <td>0.0</td>\n",
       "      <td>0.0</td>\n",
       "      <td>0.0</td>\n",
       "      <td>0.0</td>\n",
       "      <td>0.0</td>\n",
       "      <td>0.0</td>\n",
       "      <td>42020.0</td>\n",
       "    </tr>\n",
       "    <tr>\n",
       "      <th>92966454154</th>\n",
       "      <td>2017-12-01</td>\n",
       "      <td>0.0</td>\n",
       "      <td>0.0</td>\n",
       "      <td>0.0</td>\n",
       "      <td>0.0</td>\n",
       "      <td>0.0</td>\n",
       "      <td>0.0</td>\n",
       "      <td>0.0</td>\n",
       "      <td>1</td>\n",
       "      <td>M</td>\n",
       "      <td>...</td>\n",
       "      <td>0.0</td>\n",
       "      <td>0.0</td>\n",
       "      <td>0.0</td>\n",
       "      <td>0.0</td>\n",
       "      <td>0.0</td>\n",
       "      <td>0.0</td>\n",
       "      <td>0.0</td>\n",
       "      <td>0.0</td>\n",
       "      <td>0.0</td>\n",
       "      <td>0.0</td>\n",
       "    </tr>\n",
       "  </tbody>\n",
       "</table>\n",
       "<p>5 rows × 23 columns</p>\n",
       "</div>"
      ],
      "text/plain": [
       "                 periodo  DIAS1  DIAS2  DIAS3  DIAS4  DIAS5  DIAS6  DIAS0  \\\n",
       "Identificador                                                               \n",
       "92966498191   2017-12-01    0.0    0.0    0.0    0.0    0.0    0.0    0.0   \n",
       "92966442488   2017-12-01    0.0    0.0    0.0    0.0    0.0    0.0    0.0   \n",
       "92967417881   2018-06-01   42.0   73.0  101.0  134.0  164.0  192.0   10.0   \n",
       "92966457920   2018-06-01    0.0    0.0    0.0    0.0    0.0    0.0    0.0   \n",
       "92966454154   2017-12-01    0.0    0.0    0.0    0.0    0.0    0.0    0.0   \n",
       "\n",
       "               Numero_Producto GENERO  ...    Saldo1  Saldo_Mora3    Saldo2  \\\n",
       "Identificador                          ...                                    \n",
       "92966498191                  1      F  ...  826282.0      22918.0  880038.0   \n",
       "92966442488                  1      M  ...       0.0          0.0       0.0   \n",
       "92967417881                  2      M  ...   10262.0        800.0   10534.0   \n",
       "92966457920                  1      F  ...       0.0          0.0       0.0   \n",
       "92966454154                  1      M  ...       0.0          0.0       0.0   \n",
       "\n",
       "               Saldo_Mora4    Saldo3  Saldo_Mora5    Saldo4  Saldo_Mora6  \\\n",
       "Identificador                                                              \n",
       "92966498191        21547.0  875198.0      22184.0  859556.0      23081.0   \n",
       "92966442488            0.0       0.0          0.0       0.0          0.0   \n",
       "92967417881          117.0   10249.0      10607.0   20572.0      23824.0   \n",
       "92966457920            0.0       0.0          0.0       0.0          0.0   \n",
       "92966454154            0.0       0.0          0.0       0.0          0.0   \n",
       "\n",
       "                 Saldo5    Saldo6  \n",
       "Identificador                      \n",
       "92966498191    844034.0  827736.0  \n",
       "92966442488         0.0       0.0  \n",
       "92967417881     21573.0   81389.0  \n",
       "92966457920         0.0   42020.0  \n",
       "92966454154         0.0       0.0  \n",
       "\n",
       "[5 rows x 23 columns]"
      ]
     },
     "execution_count": 15,
     "metadata": {},
     "output_type": "execute_result"
    }
   ],
   "source": [
    "df.head()"
   ]
  },
  {
   "cell_type": "code",
   "execution_count": 16,
   "metadata": {
    "colab": {
     "base_uri": "https://localhost:8080/"
    },
    "id": "muKDvt6UTTSD",
    "outputId": "8291a556-ffbf-41f9-9d42-516ea75c7276"
   },
   "outputs": [
    {
     "name": "stdout",
     "output_type": "stream",
     "text": [
      "<class 'pandas.core.frame.DataFrame'>\n",
      "Int64Index: 781 entries, 92966498191 to 92966442639\n",
      "Data columns (total 23 columns):\n",
      " #   Column           Non-Null Count  Dtype         \n",
      "---  ------           --------------  -----         \n",
      " 0   periodo          781 non-null    datetime64[ns]\n",
      " 1   DIAS1            781 non-null    float64       \n",
      " 2   DIAS2            781 non-null    float64       \n",
      " 3   DIAS3            781 non-null    float64       \n",
      " 4   DIAS4            781 non-null    float64       \n",
      " 5   DIAS5            781 non-null    float64       \n",
      " 6   DIAS6            781 non-null    float64       \n",
      " 7   DIAS0            781 non-null    float64       \n",
      " 8   Numero_Producto  781 non-null    int64         \n",
      " 9   GENERO           781 non-null    object        \n",
      " 10  Saldo_Mora1      781 non-null    float64       \n",
      " 11  Cupo             781 non-null    float64       \n",
      " 12  Saldo_Mora2      781 non-null    float64       \n",
      " 13  Saldo1           781 non-null    float64       \n",
      " 14  Saldo_Mora3      781 non-null    float64       \n",
      " 15  Saldo2           781 non-null    float64       \n",
      " 16  Saldo_Mora4      781 non-null    float64       \n",
      " 17  Saldo3           781 non-null    float64       \n",
      " 18  Saldo_Mora5      781 non-null    float64       \n",
      " 19  Saldo4           781 non-null    float64       \n",
      " 20  Saldo_Mora6      781 non-null    float64       \n",
      " 21  Saldo5           781 non-null    float64       \n",
      " 22  Saldo6           781 non-null    float64       \n",
      "dtypes: datetime64[ns](1), float64(20), int64(1), object(1)\n",
      "memory usage: 146.4+ KB\n"
     ]
    }
   ],
   "source": [
    "#Información de Data Set\n",
    "df.info()"
   ]
  },
  {
   "cell_type": "code",
   "execution_count": 17,
   "metadata": {
    "colab": {
     "base_uri": "https://localhost:8080/"
    },
    "id": "TVKRfhxle5Yd",
    "outputId": "58b48c56-9de4-49a7-b9cc-682ca00b4b60"
   },
   "outputs": [
    {
     "name": "stdout",
     "output_type": "stream",
     "text": [
      "La base de datos tiene: 781 entradas.\n"
     ]
    }
   ],
   "source": [
    "print('La base de datos tiene:', len(df), 'entradas.')"
   ]
  },
  {
   "cell_type": "markdown",
   "metadata": {
    "id": "CuzL4ugDMiKl"
   },
   "source": [
    "# 2. Análisis Descriptivo\n",
    "\n",
    "Se hace una breve descrioción de las variables númericas del problema"
   ]
  },
  {
   "cell_type": "code",
   "execution_count": 18,
   "metadata": {
    "colab": {
     "base_uri": "https://localhost:8080/",
     "height": 700
    },
    "id": "kPnU0PUjLsov",
    "outputId": "3c2374a1-6afb-491a-cfaf-f5a220e035fb"
   },
   "outputs": [
    {
     "data": {
      "text/html": [
       "<div>\n",
       "<style scoped>\n",
       "    .dataframe tbody tr th:only-of-type {\n",
       "        vertical-align: middle;\n",
       "    }\n",
       "\n",
       "    .dataframe tbody tr th {\n",
       "        vertical-align: top;\n",
       "    }\n",
       "\n",
       "    .dataframe thead th {\n",
       "        text-align: right;\n",
       "    }\n",
       "</style>\n",
       "<table border=\"1\" class=\"dataframe\">\n",
       "  <thead>\n",
       "    <tr style=\"text-align: right;\">\n",
       "      <th></th>\n",
       "      <th>count</th>\n",
       "      <th>mean</th>\n",
       "      <th>std</th>\n",
       "      <th>min</th>\n",
       "      <th>25%</th>\n",
       "      <th>50%</th>\n",
       "      <th>75%</th>\n",
       "      <th>max</th>\n",
       "    </tr>\n",
       "  </thead>\n",
       "  <tbody>\n",
       "    <tr>\n",
       "      <th>DIAS1</th>\n",
       "      <td>781.0</td>\n",
       "      <td>4.472471e+00</td>\n",
       "      <td>1.802337e+01</td>\n",
       "      <td>0.0</td>\n",
       "      <td>0.0</td>\n",
       "      <td>0.0</td>\n",
       "      <td>0.0</td>\n",
       "      <td>118.0</td>\n",
       "    </tr>\n",
       "    <tr>\n",
       "      <th>DIAS2</th>\n",
       "      <td>781.0</td>\n",
       "      <td>5.692702e+00</td>\n",
       "      <td>2.324083e+01</td>\n",
       "      <td>0.0</td>\n",
       "      <td>0.0</td>\n",
       "      <td>0.0</td>\n",
       "      <td>0.0</td>\n",
       "      <td>134.0</td>\n",
       "    </tr>\n",
       "    <tr>\n",
       "      <th>DIAS3</th>\n",
       "      <td>781.0</td>\n",
       "      <td>6.955186e+00</td>\n",
       "      <td>2.831457e+01</td>\n",
       "      <td>0.0</td>\n",
       "      <td>0.0</td>\n",
       "      <td>0.0</td>\n",
       "      <td>0.0</td>\n",
       "      <td>163.0</td>\n",
       "    </tr>\n",
       "    <tr>\n",
       "      <th>DIAS4</th>\n",
       "      <td>781.0</td>\n",
       "      <td>8.562100e+00</td>\n",
       "      <td>3.387629e+01</td>\n",
       "      <td>0.0</td>\n",
       "      <td>0.0</td>\n",
       "      <td>0.0</td>\n",
       "      <td>0.0</td>\n",
       "      <td>195.0</td>\n",
       "    </tr>\n",
       "    <tr>\n",
       "      <th>DIAS5</th>\n",
       "      <td>781.0</td>\n",
       "      <td>1.012420e+01</td>\n",
       "      <td>4.033731e+01</td>\n",
       "      <td>0.0</td>\n",
       "      <td>0.0</td>\n",
       "      <td>0.0</td>\n",
       "      <td>0.0</td>\n",
       "      <td>226.0</td>\n",
       "    </tr>\n",
       "    <tr>\n",
       "      <th>DIAS6</th>\n",
       "      <td>781.0</td>\n",
       "      <td>1.134187e+01</td>\n",
       "      <td>4.488852e+01</td>\n",
       "      <td>0.0</td>\n",
       "      <td>0.0</td>\n",
       "      <td>0.0</td>\n",
       "      <td>0.0</td>\n",
       "      <td>254.0</td>\n",
       "    </tr>\n",
       "    <tr>\n",
       "      <th>DIAS0</th>\n",
       "      <td>781.0</td>\n",
       "      <td>4.329065e+00</td>\n",
       "      <td>1.384161e+01</td>\n",
       "      <td>0.0</td>\n",
       "      <td>0.0</td>\n",
       "      <td>0.0</td>\n",
       "      <td>0.0</td>\n",
       "      <td>86.0</td>\n",
       "    </tr>\n",
       "    <tr>\n",
       "      <th>Numero_Producto</th>\n",
       "      <td>781.0</td>\n",
       "      <td>1.204866e+00</td>\n",
       "      <td>5.896778e-01</td>\n",
       "      <td>1.0</td>\n",
       "      <td>1.0</td>\n",
       "      <td>1.0</td>\n",
       "      <td>1.0</td>\n",
       "      <td>6.0</td>\n",
       "    </tr>\n",
       "    <tr>\n",
       "      <th>Saldo_Mora1</th>\n",
       "      <td>781.0</td>\n",
       "      <td>7.817730e+03</td>\n",
       "      <td>7.576060e+04</td>\n",
       "      <td>0.0</td>\n",
       "      <td>0.0</td>\n",
       "      <td>0.0</td>\n",
       "      <td>0.0</td>\n",
       "      <td>2028684.0</td>\n",
       "    </tr>\n",
       "    <tr>\n",
       "      <th>Cupo</th>\n",
       "      <td>781.0</td>\n",
       "      <td>1.542386e+06</td>\n",
       "      <td>1.458452e+07</td>\n",
       "      <td>0.0</td>\n",
       "      <td>0.0</td>\n",
       "      <td>0.0</td>\n",
       "      <td>0.0</td>\n",
       "      <td>313138080.0</td>\n",
       "    </tr>\n",
       "    <tr>\n",
       "      <th>Saldo_Mora2</th>\n",
       "      <td>781.0</td>\n",
       "      <td>8.705292e+03</td>\n",
       "      <td>7.100942e+04</td>\n",
       "      <td>0.0</td>\n",
       "      <td>0.0</td>\n",
       "      <td>0.0</td>\n",
       "      <td>0.0</td>\n",
       "      <td>1624059.0</td>\n",
       "    </tr>\n",
       "    <tr>\n",
       "      <th>Saldo1</th>\n",
       "      <td>781.0</td>\n",
       "      <td>1.474128e+06</td>\n",
       "      <td>1.308411e+07</td>\n",
       "      <td>0.0</td>\n",
       "      <td>0.0</td>\n",
       "      <td>0.0</td>\n",
       "      <td>0.0</td>\n",
       "      <td>255216432.0</td>\n",
       "    </tr>\n",
       "    <tr>\n",
       "      <th>Saldo_Mora3</th>\n",
       "      <td>781.0</td>\n",
       "      <td>8.748557e+03</td>\n",
       "      <td>6.572913e+04</td>\n",
       "      <td>0.0</td>\n",
       "      <td>0.0</td>\n",
       "      <td>0.0</td>\n",
       "      <td>0.0</td>\n",
       "      <td>1376478.0</td>\n",
       "    </tr>\n",
       "    <tr>\n",
       "      <th>Saldo2</th>\n",
       "      <td>781.0</td>\n",
       "      <td>1.502197e+06</td>\n",
       "      <td>1.306250e+07</td>\n",
       "      <td>0.0</td>\n",
       "      <td>0.0</td>\n",
       "      <td>0.0</td>\n",
       "      <td>2.0</td>\n",
       "      <td>257857344.0</td>\n",
       "    </tr>\n",
       "    <tr>\n",
       "      <th>Saldo_Mora4</th>\n",
       "      <td>781.0</td>\n",
       "      <td>1.179107e+04</td>\n",
       "      <td>1.419904e+05</td>\n",
       "      <td>0.0</td>\n",
       "      <td>0.0</td>\n",
       "      <td>0.0</td>\n",
       "      <td>0.0</td>\n",
       "      <td>3798930.0</td>\n",
       "    </tr>\n",
       "    <tr>\n",
       "      <th>Saldo3</th>\n",
       "      <td>781.0</td>\n",
       "      <td>1.446716e+06</td>\n",
       "      <td>1.293992e+07</td>\n",
       "      <td>0.0</td>\n",
       "      <td>0.0</td>\n",
       "      <td>0.0</td>\n",
       "      <td>789.0</td>\n",
       "      <td>260498256.0</td>\n",
       "    </tr>\n",
       "    <tr>\n",
       "      <th>Saldo_Mora5</th>\n",
       "      <td>781.0</td>\n",
       "      <td>1.514731e+04</td>\n",
       "      <td>2.201747e+05</td>\n",
       "      <td>0.0</td>\n",
       "      <td>0.0</td>\n",
       "      <td>0.0</td>\n",
       "      <td>0.0</td>\n",
       "      <td>6038883.0</td>\n",
       "    </tr>\n",
       "    <tr>\n",
       "      <th>Saldo4</th>\n",
       "      <td>781.0</td>\n",
       "      <td>1.513927e+06</td>\n",
       "      <td>1.311329e+07</td>\n",
       "      <td>0.0</td>\n",
       "      <td>0.0</td>\n",
       "      <td>0.0</td>\n",
       "      <td>270.0</td>\n",
       "      <td>263139152.0</td>\n",
       "    </tr>\n",
       "    <tr>\n",
       "      <th>Saldo_Mora6</th>\n",
       "      <td>781.0</td>\n",
       "      <td>1.421021e+04</td>\n",
       "      <td>1.131469e+05</td>\n",
       "      <td>0.0</td>\n",
       "      <td>0.0</td>\n",
       "      <td>0.0</td>\n",
       "      <td>0.0</td>\n",
       "      <td>2271817.0</td>\n",
       "    </tr>\n",
       "    <tr>\n",
       "      <th>Saldo5</th>\n",
       "      <td>781.0</td>\n",
       "      <td>1.476353e+06</td>\n",
       "      <td>1.309283e+07</td>\n",
       "      <td>0.0</td>\n",
       "      <td>0.0</td>\n",
       "      <td>0.0</td>\n",
       "      <td>472.0</td>\n",
       "      <td>265780064.0</td>\n",
       "    </tr>\n",
       "    <tr>\n",
       "      <th>Saldo6</th>\n",
       "      <td>781.0</td>\n",
       "      <td>1.584583e+06</td>\n",
       "      <td>1.318921e+07</td>\n",
       "      <td>0.0</td>\n",
       "      <td>0.0</td>\n",
       "      <td>0.0</td>\n",
       "      <td>15944.0</td>\n",
       "      <td>268401344.0</td>\n",
       "    </tr>\n",
       "  </tbody>\n",
       "</table>\n",
       "</div>"
      ],
      "text/plain": [
       "                 count          mean           std  min  25%  50%      75%  \\\n",
       "DIAS1            781.0  4.472471e+00  1.802337e+01  0.0  0.0  0.0      0.0   \n",
       "DIAS2            781.0  5.692702e+00  2.324083e+01  0.0  0.0  0.0      0.0   \n",
       "DIAS3            781.0  6.955186e+00  2.831457e+01  0.0  0.0  0.0      0.0   \n",
       "DIAS4            781.0  8.562100e+00  3.387629e+01  0.0  0.0  0.0      0.0   \n",
       "DIAS5            781.0  1.012420e+01  4.033731e+01  0.0  0.0  0.0      0.0   \n",
       "DIAS6            781.0  1.134187e+01  4.488852e+01  0.0  0.0  0.0      0.0   \n",
       "DIAS0            781.0  4.329065e+00  1.384161e+01  0.0  0.0  0.0      0.0   \n",
       "Numero_Producto  781.0  1.204866e+00  5.896778e-01  1.0  1.0  1.0      1.0   \n",
       "Saldo_Mora1      781.0  7.817730e+03  7.576060e+04  0.0  0.0  0.0      0.0   \n",
       "Cupo             781.0  1.542386e+06  1.458452e+07  0.0  0.0  0.0      0.0   \n",
       "Saldo_Mora2      781.0  8.705292e+03  7.100942e+04  0.0  0.0  0.0      0.0   \n",
       "Saldo1           781.0  1.474128e+06  1.308411e+07  0.0  0.0  0.0      0.0   \n",
       "Saldo_Mora3      781.0  8.748557e+03  6.572913e+04  0.0  0.0  0.0      0.0   \n",
       "Saldo2           781.0  1.502197e+06  1.306250e+07  0.0  0.0  0.0      2.0   \n",
       "Saldo_Mora4      781.0  1.179107e+04  1.419904e+05  0.0  0.0  0.0      0.0   \n",
       "Saldo3           781.0  1.446716e+06  1.293992e+07  0.0  0.0  0.0    789.0   \n",
       "Saldo_Mora5      781.0  1.514731e+04  2.201747e+05  0.0  0.0  0.0      0.0   \n",
       "Saldo4           781.0  1.513927e+06  1.311329e+07  0.0  0.0  0.0    270.0   \n",
       "Saldo_Mora6      781.0  1.421021e+04  1.131469e+05  0.0  0.0  0.0      0.0   \n",
       "Saldo5           781.0  1.476353e+06  1.309283e+07  0.0  0.0  0.0    472.0   \n",
       "Saldo6           781.0  1.584583e+06  1.318921e+07  0.0  0.0  0.0  15944.0   \n",
       "\n",
       "                         max  \n",
       "DIAS1                  118.0  \n",
       "DIAS2                  134.0  \n",
       "DIAS3                  163.0  \n",
       "DIAS4                  195.0  \n",
       "DIAS5                  226.0  \n",
       "DIAS6                  254.0  \n",
       "DIAS0                   86.0  \n",
       "Numero_Producto          6.0  \n",
       "Saldo_Mora1        2028684.0  \n",
       "Cupo             313138080.0  \n",
       "Saldo_Mora2        1624059.0  \n",
       "Saldo1           255216432.0  \n",
       "Saldo_Mora3        1376478.0  \n",
       "Saldo2           257857344.0  \n",
       "Saldo_Mora4        3798930.0  \n",
       "Saldo3           260498256.0  \n",
       "Saldo_Mora5        6038883.0  \n",
       "Saldo4           263139152.0  \n",
       "Saldo_Mora6        2271817.0  \n",
       "Saldo5           265780064.0  \n",
       "Saldo6           268401344.0  "
      ]
     },
     "execution_count": 18,
     "metadata": {},
     "output_type": "execute_result"
    }
   ],
   "source": [
    "df.describe().T"
   ]
  },
  {
   "cell_type": "markdown",
   "metadata": {},
   "source": [
    "# 3. Feature Engineering"
   ]
  },
  {
   "cell_type": "code",
   "execution_count": 19,
   "metadata": {},
   "outputs": [],
   "source": [
    "df_features = pd.DataFrame([])"
   ]
  },
  {
   "cell_type": "markdown",
   "metadata": {
    "id": "7ZTXr6pNpJb7"
   },
   "source": [
    "## Saldo promedio de los ultimos 6 meses"
   ]
  },
  {
   "cell_type": "code",
   "execution_count": 20,
   "metadata": {
    "id": "Koyry7B1udZg"
   },
   "outputs": [],
   "source": [
    "df_features['Saldo_Promedio'] = df[['Saldo1','Saldo2','Saldo3','Saldo4','Saldo5','Saldo6']].mean(axis=1)"
   ]
  },
  {
   "cell_type": "markdown",
   "metadata": {},
   "source": [
    "## Saldo máximo en el primer trimestre."
   ]
  },
  {
   "cell_type": "code",
   "execution_count": 21,
   "metadata": {},
   "outputs": [],
   "source": [
    "df_features['Saldo_Max'] = df[['Saldo1','Saldo2','Saldo3']].max(axis=1)"
   ]
  },
  {
   "cell_type": "markdown",
   "metadata": {
    "id": "eaj2ZEDuvim5"
   },
   "source": [
    "## Flag género"
   ]
  },
  {
   "cell_type": "code",
   "execution_count": 22,
   "metadata": {
    "id": "uxm0T7apLsh0"
   },
   "outputs": [],
   "source": [
    "df_features['Flag_Genero'] = df.GENERO.eq('F').mul(1)"
   ]
  },
  {
   "cell_type": "markdown",
   "metadata": {
    "id": "TogjeqV9wVUg"
   },
   "source": [
    "## Porcentaje promedio de saldo en mora con respecto al cupo en los 6 meses."
   ]
  },
  {
   "cell_type": "code",
   "execution_count": 23,
   "metadata": {
    "id": "Q_zfvSt-LsSQ"
   },
   "outputs": [],
   "source": [
    "s_m_prom = df[['Saldo_Mora1','Saldo_Mora2','Saldo_Mora3','Saldo_Mora4','Saldo_Mora5','Saldo_Mora6']].mean(axis=1)\n",
    "#s_m_max = df[['Saldo_Mora1','Saldo_Mora2','Saldo_Mora3','Saldo_Mora4','Saldo_Mora5','Saldo_Mora6']].max(axis=1)\n",
    "df_features['Porc_prom_Saldo_mora'] = s_m_prom/ df['Cupo'] "
   ]
  },
  {
   "cell_type": "code",
   "execution_count": 24,
   "metadata": {},
   "outputs": [],
   "source": [
    "#Cuando s_m_max es 0 significa que no tiene saldo de mora, por lo tanto el porcentaje promedio de saldo \n",
    "#en mora es 0\n",
    "df_features['Porc_prom_Saldo_mora'].replace([np.inf, -np.inf], np.nan, inplace=True)\n",
    "df_features['Porc_prom_Saldo_mora'] = df_features['Porc_prom_Saldo_mora'].fillna(0)*100"
   ]
  },
  {
   "cell_type": "markdown",
   "metadata": {},
   "source": [
    "## Utilización máxima de los últimos 6 meses \n",
    "Se calcula la utilización de la cuenta como Saldo/Cupo."
   ]
  },
  {
   "cell_type": "code",
   "execution_count": 25,
   "metadata": {},
   "outputs": [],
   "source": [
    "df_features['util_max_seis'] = df['Saldo6'] / df['Cupo'] \n",
    "df_features['util_max_seis'].replace([np.inf, -np.inf], np.nan, inplace=True)\n",
    "df_features['util_max_seis'] = df_features['util_max_seis'].fillna(0)"
   ]
  },
  {
   "cell_type": "markdown",
   "metadata": {},
   "source": [
    "## Cupo promedio de los primeros 3 meses \n",
    "Se calcula como Cupo/Número_Productos."
   ]
  },
  {
   "cell_type": "code",
   "execution_count": 26,
   "metadata": {},
   "outputs": [],
   "source": [
    "df_features['Cupo_prom'] = df['Cupo']/df['Numero_Producto'] "
   ]
  },
  {
   "cell_type": "markdown",
   "metadata": {},
   "source": [
    "## Antigüedad de la obligación en meses a 201908."
   ]
  },
  {
   "cell_type": "code",
   "execution_count": 27,
   "metadata": {},
   "outputs": [],
   "source": [
    "df['date'] = 201908\n",
    "df['date'] = pd.to_datetime(df['date'], format='%Y%m', errors='coerce')"
   ]
  },
  {
   "cell_type": "code",
   "execution_count": 28,
   "metadata": {},
   "outputs": [],
   "source": [
    "df_features['Antiguedad'] = ((df.date - df.periodo)/np.timedelta64(1, 'M'))"
   ]
  },
  {
   "cell_type": "markdown",
   "metadata": {
    "id": "Z0O_PRhbyKcC"
   },
   "source": [
    "# 4. Segmentation Class\n",
    "Se crean dos etiquetas para los clientes tomando 0 como clientes buenos y 1 como clientes malos  "
   ]
  },
  {
   "cell_type": "code",
   "execution_count": 29,
   "metadata": {
    "id": "peiH2PbaxAGR"
   },
   "outputs": [],
   "source": [
    "#Clientes que que luego de los 6 meses hayan alcanzado un máximo de 30 días en mora\n",
    "df_features['Tipo_Cliente_1'] = 0"
   ]
  },
  {
   "cell_type": "code",
   "execution_count": 30,
   "metadata": {},
   "outputs": [
    {
     "data": {
      "text/plain": [
       "0    731\n",
       "1     50\n",
       "Name: Tipo_Cliente_1, dtype: int64"
      ]
     },
     "execution_count": 30,
     "metadata": {},
     "output_type": "execute_result"
    }
   ],
   "source": [
    "for i, cli in enumerate(df_features['Tipo_Cliente_1']):\n",
    "    ix = df_features['Tipo_Cliente_1'].index[i]\n",
    "    if df.at[ix, 'DIAS6']  > 30:\n",
    "        df_features.at[ix, 'Tipo_Cliente_1'] = 1\n",
    "\n",
    "df_features['Tipo_Cliente_1'].value_counts()"
   ]
  },
  {
   "cell_type": "code",
   "execution_count": 31,
   "metadata": {},
   "outputs": [],
   "source": [
    "#Clientes que que luego de los 6 meses hayan alcanzado un máximo de 90 días en mora.\n",
    "df_features['Tipo_Cliente_2'] = 0"
   ]
  },
  {
   "cell_type": "code",
   "execution_count": 32,
   "metadata": {},
   "outputs": [
    {
     "data": {
      "text/plain": [
       "0    740\n",
       "1     41\n",
       "Name: Tipo_Cliente_2, dtype: int64"
      ]
     },
     "execution_count": 32,
     "metadata": {},
     "output_type": "execute_result"
    }
   ],
   "source": [
    "for i, cli in enumerate(df_features['Tipo_Cliente_2']):\n",
    "    ix = df_features['Tipo_Cliente_2'].index[i]\n",
    "    if df.at[ix, 'DIAS6']  > 90:\n",
    "        df_features.at[ix, 'Tipo_Cliente_2'] = 1\n",
    "\n",
    "df_features['Tipo_Cliente_2'].value_counts()"
   ]
  },
  {
   "cell_type": "markdown",
   "metadata": {
    "id": "qZACRrDs1uvr"
   },
   "source": [
    "# 5. Model training"
   ]
  },
  {
   "cell_type": "code",
   "execution_count": 33,
   "metadata": {
    "id": "QGPD7Pgq1kFi"
   },
   "outputs": [],
   "source": [
    "#Variable categorica\n",
    "y_1 = df_features['Tipo_Cliente_1'].values\n",
    "y_2 = df_features['Tipo_Cliente_2'].values"
   ]
  },
  {
   "cell_type": "code",
   "execution_count": 34,
   "metadata": {},
   "outputs": [],
   "source": [
    "features_num = len(df_features.columns) "
   ]
  },
  {
   "cell_type": "code",
   "execution_count": 35,
   "metadata": {
    "id": "CpZQavzt6J4t"
   },
   "outputs": [],
   "source": [
    "#Caracterisiticas del problema \n",
    "from sklearn.preprocessing import StandardScaler\n",
    "scaler = StandardScaler()\n",
    "\n",
    "X = df_features.iloc[:,:features_num].values\n",
    "scaler.fit(X)\n",
    "X = scaler.transform(X)"
   ]
  },
  {
   "cell_type": "code",
   "execution_count": 36,
   "metadata": {},
   "outputs": [
    {
     "data": {
      "text/plain": [
       "(781, 9)"
      ]
     },
     "execution_count": 36,
     "metadata": {},
     "output_type": "execute_result"
    }
   ],
   "source": [
    "X.shape"
   ]
  },
  {
   "cell_type": "code",
   "execution_count": 37,
   "metadata": {
    "id": "lOGSV9uA1r9D"
   },
   "outputs": [],
   "source": [
    "#Entranamiento del problema\n",
    "from sklearn.model_selection import train_test_split"
   ]
  },
  {
   "cell_type": "code",
   "execution_count": 38,
   "metadata": {
    "id": "G0dHWbt31r6q"
   },
   "outputs": [],
   "source": [
    "X_train_1, X_test_1, y_train_1, y_test_1 = train_test_split(X, y_1, test_size=0.33, random_state=42,\n",
    "                                                            stratify=y_1, shuffle=True)"
   ]
  },
  {
   "cell_type": "code",
   "execution_count": 39,
   "metadata": {},
   "outputs": [],
   "source": [
    "X_train_2, X_test_2, y_train_2, y_test_2 = train_test_split(X, y_2, test_size=0.33, random_state=42,\n",
    "                                                            stratify=y_2, shuffle=True)"
   ]
  },
  {
   "cell_type": "code",
   "execution_count": 40,
   "metadata": {},
   "outputs": [
    {
     "name": "stdout",
     "output_type": "stream",
     "text": [
      "Parameters: {'C': [0.1, 0.2, 0.3, 0.4, 0.5, 0.6, 0.7, 0.8, 0.9, 1.0]}\n"
     ]
    }
   ],
   "source": [
    "grid = [i for i in range(1, 11, 1)]\n",
    "param_grid = {'C': [np.round((0.1*i), decimals =2) for i in grid]}\n",
    "print('Parameters:', param_grid)"
   ]
  },
  {
   "cell_type": "code",
   "execution_count": 41,
   "metadata": {
    "id": "9uxqjxOc1r1l"
   },
   "outputs": [],
   "source": [
    "from sklearn.linear_model import LogisticRegression\n",
    "from sklearn.model_selection import GridSearchCV\n",
    "from sklearn.metrics import classification_report\n",
    "from sklearn.metrics import plot_confusion_matrix\n",
    "\n",
    "clf = GridSearchCV(LogisticRegression(solver= 'liblinear'), \n",
    "                   param_grid = param_grid, verbose=0, return_train_score=True, \n",
    "                   n_jobs=-1, cv=5)"
   ]
  },
  {
   "cell_type": "markdown",
   "metadata": {
    "id": "ergzdXdkAbr4"
   },
   "source": [
    "# 6. Models Evaluation"
   ]
  },
  {
   "cell_type": "code",
   "execution_count": 42,
   "metadata": {},
   "outputs": [],
   "source": [
    "class_names = np.array(['Buen Cliente', 'Mal Cliente'])"
   ]
  },
  {
   "cell_type": "code",
   "execution_count": 43,
   "metadata": {},
   "outputs": [
    {
     "name": "stdout",
     "output_type": "stream",
     "text": [
      "Best Params: {'C': 0.1} \n",
      "\n",
      "              precision    recall  f1-score   support\n",
      "\n",
      "           0       1.00      1.00      1.00       241\n",
      "           1       1.00      1.00      1.00        17\n",
      "\n",
      "    accuracy                           1.00       258\n",
      "   macro avg       1.00      1.00      1.00       258\n",
      "weighted avg       1.00      1.00      1.00       258\n",
      "\n"
     ]
    }
   ],
   "source": [
    "clf.fit(X_train_1, y_train_1) \n",
    "\n",
    "print('Best Params:', clf.best_params_, '\\n')\n",
    "y_pred_1 = clf.predict(X_test_1)\n",
    "print(classification_report(y_test_1, y_pred_1))"
   ]
  },
  {
   "cell_type": "code",
   "execution_count": 44,
   "metadata": {},
   "outputs": [
    {
     "data": {
      "text/plain": [
       "[]"
      ]
     },
     "execution_count": 44,
     "metadata": {},
     "output_type": "execute_result"
    },
    {
     "data": {
      "image/png": "[encoded data removed]",
      "text/plain": [
       "<Figure size 576x576 with 2 Axes>"
      ]
     },
     "metadata": {
      "needs_background": "light"
     },
     "output_type": "display_data"
    }
   ],
   "source": [
    "title = \"Confusion matrix\"\n",
    "fig, ax = plt.subplots(figsize=(8, 8))\n",
    "plot_confusion_matrix(clf, X_test_1, y_test_1,\n",
    "                      display_labels = class_names,\n",
    "                      cmap = plt.cm.Blues,\n",
    "                      normalize = None, ax=ax)\n",
    "ax.set_title(title)\n",
    "plt.savefig('./results/Model_1.png', format='png', bbox_inches='tight')\n",
    "plt.plot()"
   ]
  },
  {
   "cell_type": "code",
   "execution_count": 45,
   "metadata": {},
   "outputs": [
    {
     "name": "stdout",
     "output_type": "stream",
     "text": [
      "Best Params: {'C': 0.1} \n",
      "\n",
      "              precision    recall  f1-score   support\n",
      "\n",
      "           0       1.00      1.00      1.00       244\n",
      "           1       1.00      1.00      1.00        14\n",
      "\n",
      "    accuracy                           1.00       258\n",
      "   macro avg       1.00      1.00      1.00       258\n",
      "weighted avg       1.00      1.00      1.00       258\n",
      "\n"
     ]
    }
   ],
   "source": [
    "clf.fit(X_train_2, y_train_2) \n",
    "\n",
    "print('Best Params:',clf.best_params_, '\\n')\n",
    "y_pred_2 = clf.predict(X_test_2)\n",
    "print(classification_report(y_test_2, y_pred_2))"
   ]
  },
  {
   "cell_type": "code",
   "execution_count": 46,
   "metadata": {},
   "outputs": [
    {
     "data": {
      "text/plain": [
       "[]"
      ]
     },
     "execution_count": 46,
     "metadata": {},
     "output_type": "execute_result"
    },
    {
     "data": {
      "image/png": "[encoded data removed]",
      "text/plain": [
       "<Figure size 576x576 with 2 Axes>"
      ]
     },
     "metadata": {
      "needs_background": "light"
     },
     "output_type": "display_data"
    }
   ],
   "source": [
    "fig, ax = plt.subplots(figsize=(8, 8))\n",
    "plot_confusion_matrix(clf, X_test_2, y_test_2,\n",
    "                      display_labels = class_names,\n",
    "                      cmap = plt.cm.Blues,\n",
    "                      normalize = None, ax=ax)\n",
    "ax.set_title(title)\n",
    "plt.savefig('./results/Model_2.png', format='png', bbox_inches='tight')\n",
    "plt.plot()"
   ]
  },
  {
   "cell_type": "code",
   "execution_count": null,
   "metadata": {},
   "outputs": [],
   "source": []
  }
 ],
 "metadata": {
  "colab": {
   "name": "Experian.ipynb",
   "provenance": []
  },
  "kernelspec": {
   "display_name": "Python 3",
   "language": "python",
   "name": "python3"
  },
  "language_info": {
   "codemirror_mode": {
    "name": "ipython",
    "version": 3
   },
   "file_extension": ".py",
   "mimetype": "text/x-python",
   "name": "python",
   "nbconvert_exporter": "python",
   "pygments_lexer": "ipython3",
   "version": "3.7.6"
  }
 },
 "nbformat": 4,
 "nbformat_minor": 1
}
